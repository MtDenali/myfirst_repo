{
 "cells": [
  {
   "cell_type": "markdown",
   "metadata": {},
   "source": [
    "## Introduction\n",
    "\n",
    "This is an explortatory analysis of bike share dataset for a fictional company called Cyclistic. The dataset includes data for last 17 mounths ending at August 2022. \n",
    "\n",
    "Python programming is used.\n",
    "\n",
    "### load library"
   ]
  },
  {
   "cell_type": "code",
   "execution_count": 1,
   "metadata": {
    "_cell_guid": "b1076dfc-b9ad-4769-8c92-a6c4dae69d19",
    "_uuid": "8f2839f25d086af736a60e9eeb907d3b93b6e0e5",
    "execution": {
     "iopub.execute_input": "2022-09-11T22:25:58.661379Z",
     "iopub.status.busy": "2022-09-11T22:25:58.660387Z",
     "iopub.status.idle": "2022-09-11T22:25:58.693083Z",
     "shell.execute_reply": "2022-09-11T22:25:58.692021Z",
     "shell.execute_reply.started": "2022-09-11T22:25:58.661271Z"
    }
   },
   "outputs": [],
   "source": [
    "# This Python 3 environment comes with many helpful analytics libraries installed\n",
    "# It is defined by the kaggle/python Docker image: https://github.com/kaggle/docker-python\n",
    "# For example, here's several helpful packages to load\n",
    "\n",
    "import numpy as np # linear algebra\n",
    "import pandas as pd # data processing, CSV file I/O (e.g. pd.read_csv)\n",
    "import os\n",
    "\n",
    "import matplotlib.pyplot as plt\n",
    "\n"
   ]
  },
  {
   "cell_type": "markdown",
   "metadata": {},
   "source": [
    "## Introduction\n",
    "\n",
    "This is an explortatory analysis of bike share dataset for a fictional company called Cyclistic. The dataset includes data for last 17 mounths ending at August 2022. \n",
    "\n",
    "Python programming is used.\n",
    "\n",
    "# 1- Ask\n",
    "##  A clear statement of the business task\n",
    "\n",
    "We are looking for differences of the trends between two category of users, namely, annual members and casual riders. \n",
    "\n",
    "\n",
    "# 2- Preparation \n",
    "## Description of all data sources used\n",
    "\n",
    "Data for past 17 mounths is downloaded from [here](https://divvy-tripdata.s3.amazonaws.com/index.html). For the purposes of this case study, it is assumed that the provided datasets are credible. The data has been made available by Motivate International Inc. under this [lisence](https://ride.divvybikes.com/data-license-agreement).\n",
    "\n",
    "The data for each mounth is a separate comma-separated values (CSV)."
   ]
  },
  {
   "cell_type": "markdown",
   "metadata": {},
   "source": [
    "## Import the data"
   ]
  },
  {
   "cell_type": "code",
   "execution_count": 2,
   "metadata": {
    "execution": {
     "iopub.execute_input": "2022-09-11T22:25:58.695920Z",
     "iopub.status.busy": "2022-09-11T22:25:58.695094Z",
     "iopub.status.idle": "2022-09-11T22:26:43.640586Z",
     "shell.execute_reply": "2022-09-11T22:26:43.639372Z",
     "shell.execute_reply.started": "2022-09-11T22:25:58.695883Z"
    },
    "scrolled": false
   },
   "outputs": [
    {
     "name": "stdout",
     "output_type": "stream",
     "text": [
      "./Bike_Share_data/202205-divvy-tripdata.csv\n",
      "./Bike_Share_data/202109-divvy-tripdata.csv\n",
      "./Bike_Share_data/202104-divvy-tripdata.csv\n",
      "./Bike_Share_data/.DS_Store\n",
      "./Bike_Share_data/202107-divvy-tripdata.csv\n",
      "./Bike_Share_data/202206-divvy-tripdata.csv\n",
      "./Bike_Share_data/202111-divvy-tripdata.csv\n",
      "./Bike_Share_data/202112-divvy-tripdata.csv\n",
      "./Bike_Share_data/202203-divvy-tripdata.csv\n",
      "./Bike_Share_data/202103-divvy-tripdata.csv\n",
      "./Bike_Share_data/202202-divvy-tripdata.csv\n",
      "./Bike_Share_data/202201-divvy-tripdata.csv\n",
      "./Bike_Share_data/202110-divvy-tripdata.csv\n",
      "./Bike_Share_data/202106-divvy-tripdata.csv\n",
      "./Bike_Share_data/202207-divvy-tripdata.csv\n",
      "./Bike_Share_data/202204-divvy-tripdata.csv\n",
      "./Bike_Share_data/202108-divvy-tripdata.csv\n",
      "./Bike_Share_data/202105-divvy-tripdata.csv\n",
      "dict_keys(['202205', '202109', '202104', '202107', '202206', '202111', '202112', '202203', '202103', '202202', '202201', '202110', '202106', '202207', '202204', '202108', '202105'])\n",
      "\n",
      "There are ride data of 17 months, ending at 202207\n"
     ]
    }
   ],
   "source": [
    "# Importing the datasets into tripdata_dict dictionary\n",
    "# list of non-standard missing values\n",
    "missing_values = [\"n/a\", \"na\", \"--\"]\n",
    "tripdata_dict = {}\n",
    "for dirname, _, filenames in os.walk('./Bike_Share_data/'):\n",
    "    for filename in filenames:\n",
    "        print(os.path.join(dirname, filename))\n",
    "        if filename != '.DS_Store':\n",
    "            tripdata_dict[filename[:6]] = pd.read_csv(os.path.join(dirname, filename), na_values = missing_values)\n",
    "\n",
    "print (tripdata_dict.keys())\n",
    "print ('')\n",
    "print ('There are ride data of '+ str(len(tripdata_dict.keys())) + ' months, ending at ' + max(list(tripdata_dict.keys()))  )\n"
   ]
  },
  {
   "cell_type": "markdown",
   "metadata": {},
   "source": [
    "## Merging the data into trips dataframe"
   ]
  },
  {
   "cell_type": "code",
   "execution_count": 3,
   "metadata": {
    "execution": {
     "iopub.execute_input": "2022-09-11T22:26:43.643000Z",
     "iopub.status.busy": "2022-09-11T22:26:43.642538Z",
     "iopub.status.idle": "2022-09-11T22:26:50.128298Z",
     "shell.execute_reply": "2022-09-11T22:26:50.127194Z",
     "shell.execute_reply.started": "2022-09-11T22:26:43.642958Z"
    },
    "scrolled": false
   },
   "outputs": [
    {
     "name": "stdout",
     "output_type": "stream",
     "text": [
      "<class 'pandas.core.frame.DataFrame'>\n",
      "(8550827, 13)\n",
      "<class 'pandas.core.frame.DataFrame'>\n",
      "Int64Index: 8550827 entries, 0 to 531632\n",
      "Data columns (total 13 columns):\n",
      " #   Column              Non-Null Count    Dtype  \n",
      "---  ------              --------------    -----  \n",
      " 0   ride_id             8550827 non-null  object \n",
      " 1   rideable_type       8550827 non-null  object \n",
      " 2   started_at          8550827 non-null  object \n",
      " 3   ended_at            8550827 non-null  object \n",
      " 4   start_station_name  7428037 non-null  object \n",
      " 5   start_station_id    7428040 non-null  object \n",
      " 6   end_station_name    7348291 non-null  object \n",
      " 7   end_station_id      7348291 non-null  object \n",
      " 8   start_lat           8550827 non-null  float64\n",
      " 9   start_lng           8550827 non-null  float64\n",
      " 10  end_lat             8542903 non-null  float64\n",
      " 11  end_lng             8542903 non-null  float64\n",
      " 12  member_casual       8550827 non-null  object \n",
      "dtypes: float64(4), object(9)\n",
      "memory usage: 913.3+ MB\n"
     ]
    },
    {
     "data": {
      "text/html": [
       "<div>\n",
       "<style scoped>\n",
       "    .dataframe tbody tr th:only-of-type {\n",
       "        vertical-align: middle;\n",
       "    }\n",
       "\n",
       "    .dataframe tbody tr th {\n",
       "        vertical-align: top;\n",
       "    }\n",
       "\n",
       "    .dataframe thead th {\n",
       "        text-align: right;\n",
       "    }\n",
       "</style>\n",
       "<table border=\"1\" class=\"dataframe\">\n",
       "  <thead>\n",
       "    <tr style=\"text-align: right;\">\n",
       "      <th></th>\n",
       "      <th>ride_id</th>\n",
       "      <th>rideable_type</th>\n",
       "      <th>started_at</th>\n",
       "      <th>ended_at</th>\n",
       "      <th>start_station_name</th>\n",
       "      <th>start_station_id</th>\n",
       "      <th>end_station_name</th>\n",
       "      <th>end_station_id</th>\n",
       "      <th>start_lat</th>\n",
       "      <th>start_lng</th>\n",
       "      <th>end_lat</th>\n",
       "      <th>end_lng</th>\n",
       "      <th>member_casual</th>\n",
       "    </tr>\n",
       "  </thead>\n",
       "  <tbody>\n",
       "    <tr>\n",
       "      <th>0</th>\n",
       "      <td>EC2DE40644C6B0F4</td>\n",
       "      <td>classic_bike</td>\n",
       "      <td>2022-05-23 23:06:58</td>\n",
       "      <td>2022-05-23 23:40:19</td>\n",
       "      <td>Wabash Ave &amp; Grand Ave</td>\n",
       "      <td>TA1307000117</td>\n",
       "      <td>Halsted St &amp; Roscoe St</td>\n",
       "      <td>TA1309000025</td>\n",
       "      <td>41.891466</td>\n",
       "      <td>-87.626761</td>\n",
       "      <td>41.943670</td>\n",
       "      <td>-87.648950</td>\n",
       "      <td>member</td>\n",
       "    </tr>\n",
       "    <tr>\n",
       "      <th>1</th>\n",
       "      <td>1C31AD03897EE385</td>\n",
       "      <td>classic_bike</td>\n",
       "      <td>2022-05-11 08:53:28</td>\n",
       "      <td>2022-05-11 09:31:22</td>\n",
       "      <td>DuSable Lake Shore Dr &amp; Monroe St</td>\n",
       "      <td>13300</td>\n",
       "      <td>Field Blvd &amp; South Water St</td>\n",
       "      <td>15534</td>\n",
       "      <td>41.880958</td>\n",
       "      <td>-87.616743</td>\n",
       "      <td>41.886349</td>\n",
       "      <td>-87.617517</td>\n",
       "      <td>member</td>\n",
       "    </tr>\n",
       "    <tr>\n",
       "      <th>2</th>\n",
       "      <td>1542FBEC830415CF</td>\n",
       "      <td>classic_bike</td>\n",
       "      <td>2022-05-26 18:36:28</td>\n",
       "      <td>2022-05-26 18:58:18</td>\n",
       "      <td>Clinton St &amp; Madison St</td>\n",
       "      <td>TA1305000032</td>\n",
       "      <td>Wood St &amp; Milwaukee Ave</td>\n",
       "      <td>13221</td>\n",
       "      <td>41.882242</td>\n",
       "      <td>-87.641066</td>\n",
       "      <td>41.907655</td>\n",
       "      <td>-87.672552</td>\n",
       "      <td>member</td>\n",
       "    </tr>\n",
       "    <tr>\n",
       "      <th>3</th>\n",
       "      <td>6FF59852924528F8</td>\n",
       "      <td>classic_bike</td>\n",
       "      <td>2022-05-10 07:30:07</td>\n",
       "      <td>2022-05-10 07:38:49</td>\n",
       "      <td>Clinton St &amp; Madison St</td>\n",
       "      <td>TA1305000032</td>\n",
       "      <td>Clark St &amp; Randolph St</td>\n",
       "      <td>TA1305000030</td>\n",
       "      <td>41.882242</td>\n",
       "      <td>-87.641066</td>\n",
       "      <td>41.884576</td>\n",
       "      <td>-87.631890</td>\n",
       "      <td>member</td>\n",
       "    </tr>\n",
       "    <tr>\n",
       "      <th>4</th>\n",
       "      <td>483C52CAAE12E3AC</td>\n",
       "      <td>classic_bike</td>\n",
       "      <td>2022-05-10 17:31:56</td>\n",
       "      <td>2022-05-10 17:36:57</td>\n",
       "      <td>Clinton St &amp; Madison St</td>\n",
       "      <td>TA1305000032</td>\n",
       "      <td>Morgan St &amp; Lake St</td>\n",
       "      <td>TA1306000015</td>\n",
       "      <td>41.882242</td>\n",
       "      <td>-87.641066</td>\n",
       "      <td>41.885779</td>\n",
       "      <td>-87.651025</td>\n",
       "      <td>member</td>\n",
       "    </tr>\n",
       "  </tbody>\n",
       "</table>\n",
       "</div>"
      ],
      "text/plain": [
       "            ride_id rideable_type           started_at             ended_at  \\\n",
       "0  EC2DE40644C6B0F4  classic_bike  2022-05-23 23:06:58  2022-05-23 23:40:19   \n",
       "1  1C31AD03897EE385  classic_bike  2022-05-11 08:53:28  2022-05-11 09:31:22   \n",
       "2  1542FBEC830415CF  classic_bike  2022-05-26 18:36:28  2022-05-26 18:58:18   \n",
       "3  6FF59852924528F8  classic_bike  2022-05-10 07:30:07  2022-05-10 07:38:49   \n",
       "4  483C52CAAE12E3AC  classic_bike  2022-05-10 17:31:56  2022-05-10 17:36:57   \n",
       "\n",
       "                  start_station_name start_station_id  \\\n",
       "0             Wabash Ave & Grand Ave     TA1307000117   \n",
       "1  DuSable Lake Shore Dr & Monroe St            13300   \n",
       "2            Clinton St & Madison St     TA1305000032   \n",
       "3            Clinton St & Madison St     TA1305000032   \n",
       "4            Clinton St & Madison St     TA1305000032   \n",
       "\n",
       "              end_station_name end_station_id  start_lat  start_lng  \\\n",
       "0       Halsted St & Roscoe St   TA1309000025  41.891466 -87.626761   \n",
       "1  Field Blvd & South Water St          15534  41.880958 -87.616743   \n",
       "2      Wood St & Milwaukee Ave          13221  41.882242 -87.641066   \n",
       "3       Clark St & Randolph St   TA1305000030  41.882242 -87.641066   \n",
       "4          Morgan St & Lake St   TA1306000015  41.882242 -87.641066   \n",
       "\n",
       "     end_lat    end_lng member_casual  \n",
       "0  41.943670 -87.648950        member  \n",
       "1  41.886349 -87.617517        member  \n",
       "2  41.907655 -87.672552        member  \n",
       "3  41.884576 -87.631890        member  \n",
       "4  41.885779 -87.651025        member  "
      ]
     },
     "execution_count": 3,
     "metadata": {},
     "output_type": "execute_result"
    }
   ],
   "source": [
    "# Merging the datasets\n",
    "all_df = []\n",
    "for key, value in tripdata_dict.items():\n",
    "    all_df.append(value)\n",
    "# tripdata_dict.clear()\n",
    "\n",
    "trips = pd.concat(all_df)\n",
    "print(type(trips))\n",
    "\n",
    "# check the shape and info of trips dataframe\n",
    "print(trips.shape)\n",
    "\n",
    "# What are the features? \n",
    "trips.info(show_counts=True)\n",
    "\n",
    "trips.head()"
   ]
  },
  {
   "cell_type": "markdown",
   "metadata": {},
   "source": [
    "There are 8550827 rows and 13 columns. Columns header are 'ride_id', 'rideable_type', 'member_casual', start time and end time in addition to name and coordinate of the start and end stations.  \n",
    "\n",
    "There are missing data in the station name and id columns. "
   ]
  },
  {
   "cell_type": "markdown",
   "metadata": {},
   "source": [
    "# 3- Process\n",
    "## Document any cleaning or manipulation of data\n",
    "The following questions are going to be answered.\n",
    "\n",
    "What are the expected types (int, float, string, boolean)?\n",
    "Is there obvious missing data (values that Pandas can detect)?\n",
    "Is there other types of missing data that’s not so obvious (can’t easily detect with Pandas)?\n",
    "To check the third question, we have used 'na_values = missing_values' while reading the csv files.\n",
    "\n",
    "## Check Null values\n"
   ]
  },
  {
   "cell_type": "code",
   "execution_count": 4,
   "metadata": {
    "execution": {
     "iopub.execute_input": "2022-09-11T22:26:50.131195Z",
     "iopub.status.busy": "2022-09-11T22:26:50.130765Z",
     "iopub.status.idle": "2022-09-11T22:27:00.351552Z",
     "shell.execute_reply": "2022-09-11T22:27:00.350346Z",
     "shell.execute_reply.started": "2022-09-11T22:26:50.131163Z"
    }
   },
   "outputs": [
    {
     "data": {
      "text/html": [
       "<div>\n",
       "<style scoped>\n",
       "    .dataframe tbody tr th:only-of-type {\n",
       "        vertical-align: middle;\n",
       "    }\n",
       "\n",
       "    .dataframe tbody tr th {\n",
       "        vertical-align: top;\n",
       "    }\n",
       "\n",
       "    .dataframe thead th {\n",
       "        text-align: right;\n",
       "    }\n",
       "</style>\n",
       "<table border=\"1\" class=\"dataframe\">\n",
       "  <thead>\n",
       "    <tr style=\"text-align: right;\">\n",
       "      <th></th>\n",
       "      <th>Total</th>\n",
       "      <th>Percent</th>\n",
       "    </tr>\n",
       "  </thead>\n",
       "  <tbody>\n",
       "    <tr>\n",
       "      <th>end_station_name</th>\n",
       "      <td>1202536</td>\n",
       "      <td>0.140634</td>\n",
       "    </tr>\n",
       "    <tr>\n",
       "      <th>end_station_id</th>\n",
       "      <td>1202536</td>\n",
       "      <td>0.140634</td>\n",
       "    </tr>\n",
       "    <tr>\n",
       "      <th>start_station_name</th>\n",
       "      <td>1122790</td>\n",
       "      <td>0.131308</td>\n",
       "    </tr>\n",
       "    <tr>\n",
       "      <th>start_station_id</th>\n",
       "      <td>1122787</td>\n",
       "      <td>0.131307</td>\n",
       "    </tr>\n",
       "    <tr>\n",
       "      <th>end_lat</th>\n",
       "      <td>7924</td>\n",
       "      <td>0.000927</td>\n",
       "    </tr>\n",
       "    <tr>\n",
       "      <th>end_lng</th>\n",
       "      <td>7924</td>\n",
       "      <td>0.000927</td>\n",
       "    </tr>\n",
       "    <tr>\n",
       "      <th>ride_id</th>\n",
       "      <td>0</td>\n",
       "      <td>0.000000</td>\n",
       "    </tr>\n",
       "    <tr>\n",
       "      <th>rideable_type</th>\n",
       "      <td>0</td>\n",
       "      <td>0.000000</td>\n",
       "    </tr>\n",
       "    <tr>\n",
       "      <th>started_at</th>\n",
       "      <td>0</td>\n",
       "      <td>0.000000</td>\n",
       "    </tr>\n",
       "    <tr>\n",
       "      <th>ended_at</th>\n",
       "      <td>0</td>\n",
       "      <td>0.000000</td>\n",
       "    </tr>\n",
       "    <tr>\n",
       "      <th>start_lat</th>\n",
       "      <td>0</td>\n",
       "      <td>0.000000</td>\n",
       "    </tr>\n",
       "    <tr>\n",
       "      <th>start_lng</th>\n",
       "      <td>0</td>\n",
       "      <td>0.000000</td>\n",
       "    </tr>\n",
       "    <tr>\n",
       "      <th>member_casual</th>\n",
       "      <td>0</td>\n",
       "      <td>0.000000</td>\n",
       "    </tr>\n",
       "  </tbody>\n",
       "</table>\n",
       "</div>"
      ],
      "text/plain": [
       "                      Total   Percent\n",
       "end_station_name    1202536  0.140634\n",
       "end_station_id      1202536  0.140634\n",
       "start_station_name  1122790  0.131308\n",
       "start_station_id    1122787  0.131307\n",
       "end_lat                7924  0.000927\n",
       "end_lng                7924  0.000927\n",
       "ride_id                   0  0.000000\n",
       "rideable_type             0  0.000000\n",
       "started_at                0  0.000000\n",
       "ended_at                  0  0.000000\n",
       "start_lat                 0  0.000000\n",
       "start_lng                 0  0.000000\n",
       "member_casual             0  0.000000"
      ]
     },
     "execution_count": 4,
     "metadata": {},
     "output_type": "execute_result"
    }
   ],
   "source": [
    "total = trips.isnull().sum().sort_values(ascending=False)\n",
    "percent = (trips.isnull().sum()/trips.isnull().count()).sort_values(ascending=False)\n",
    "missing_data = pd.concat([total, percent], axis=1, keys=['Total', 'Percent'])\n",
    "missing_data.head(20)"
   ]
  },
  {
   "cell_type": "markdown",
   "metadata": {},
   "source": [
    "## Handling the missing values\n",
    "We have two options regarding the missing values. Either we'll delete all the variables with missing data, or we'll just delete the observation with missing data. \n",
    "\n",
    "The advantage of first approach is that we are keeping all examples (rows) no matter there are some missing values in the removed variables.\n",
    "\n",
    "On the other hand, the second approach has the advantage of keeping all the variables even if they have some missing values by just removing all the rows of the all varibales if some varibale are missing. \n",
    "\n",
    "For now, we create a copy of trips dataframe in which the first option is implemented, called trips_1. Another copy is kept in which the observation with missing data are removed, called trips_2."
   ]
  },
  {
   "cell_type": "code",
   "execution_count": 5,
   "metadata": {
    "execution": {
     "iopub.execute_input": "2022-09-11T22:27:00.353889Z",
     "iopub.status.busy": "2022-09-11T22:27:00.353474Z",
     "iopub.status.idle": "2022-09-11T22:27:07.233815Z",
     "shell.execute_reply": "2022-09-11T22:27:07.232461Z",
     "shell.execute_reply.started": "2022-09-11T22:27:00.353853Z"
    },
    "scrolled": false
   },
   "outputs": [
    {
     "name": "stdout",
     "output_type": "stream",
     "text": [
      "(8550827, 13)\n",
      "(8550827, 13)\n"
     ]
    },
    {
     "name": "stderr",
     "output_type": "stream",
     "text": [
      "/var/folders/h5/8yxp_kmx1wn66zrygjd28qcw0000gn/T/ipykernel_5252/546056534.py:5: FutureWarning: In a future version of pandas all arguments of DataFrame.drop except for the argument 'labels' will be keyword-only\n",
      "  trips_1 = trips_1.drop((missing_data[missing_data['Total'] > 0]).index, 1)\n"
     ]
    },
    {
     "name": "stdout",
     "output_type": "stream",
     "text": [
      "(8550827, 13)\n",
      "(8550827, 7)\n",
      "<class 'pandas.core.frame.DataFrame'>\n",
      "Int64Index: 8550827 entries, 0 to 531632\n",
      "Data columns (total 5 columns):\n",
      " #   Column         Non-Null Count    Dtype \n",
      "---  ------         --------------    ----- \n",
      " 0   ride_id        8550827 non-null  object\n",
      " 1   rideable_type  8550827 non-null  object\n",
      " 2   started_at     8550827 non-null  object\n",
      " 3   ended_at       8550827 non-null  object\n",
      " 4   member_casual  8550827 non-null  object\n",
      "dtypes: object(5)\n",
      "memory usage: 391.4+ MB\n",
      "(8550827, 13) (8550827, 5)\n"
     ]
    }
   ],
   "source": [
    "trips_1 = trips\n",
    "print(trips.shape)\n",
    "print(trips_1.shape)\n",
    "\n",
    "trips_1 = trips_1.drop((missing_data[missing_data['Total'] > 0]).index, 1)\n",
    "print(trips.shape)\n",
    "print(trips_1.shape)\n",
    "\n",
    "trips_1.drop(columns = ['start_lat','start_lng'], axis=1, inplace=True)\n",
    "\n",
    "\n",
    "trips_1.info(show_counts=True)\n",
    "print (trips.shape, trips_1.shape)\n",
    "\n",
    "# remove trips\n",
    "# del trips\n",
    "\n",
    "# print (\"\")\n",
    "# print(\"check trips_2\")\n",
    "# trips_2 = trips\n",
    "# trips_2 = trips_2.dropna()\n",
    "# trips_2.info(show_counts=True)\n",
    "# print (trips.shape, trips_2.shape)\n"
   ]
  },
  {
   "cell_type": "markdown",
   "metadata": {},
   "source": [
    "## Check for duplicate"
   ]
  },
  {
   "cell_type": "code",
   "execution_count": 6,
   "metadata": {
    "execution": {
     "iopub.execute_input": "2022-09-11T22:27:52.483423Z",
     "iopub.status.busy": "2022-09-11T22:27:52.482837Z",
     "iopub.status.idle": "2022-09-11T22:27:58.646941Z",
     "shell.execute_reply": "2022-09-11T22:27:58.645476Z",
     "shell.execute_reply.started": "2022-09-11T22:27:52.483374Z"
    }
   },
   "outputs": [
    {
     "data": {
      "text/html": [
       "<div>\n",
       "<style scoped>\n",
       "    .dataframe tbody tr th:only-of-type {\n",
       "        vertical-align: middle;\n",
       "    }\n",
       "\n",
       "    .dataframe tbody tr th {\n",
       "        vertical-align: top;\n",
       "    }\n",
       "\n",
       "    .dataframe thead th {\n",
       "        text-align: right;\n",
       "    }\n",
       "</style>\n",
       "<table border=\"1\" class=\"dataframe\">\n",
       "  <thead>\n",
       "    <tr style=\"text-align: right;\">\n",
       "      <th></th>\n",
       "      <th>ride_id</th>\n",
       "      <th>rideable_type</th>\n",
       "      <th>started_at</th>\n",
       "      <th>ended_at</th>\n",
       "      <th>member_casual</th>\n",
       "    </tr>\n",
       "  </thead>\n",
       "  <tbody>\n",
       "  </tbody>\n",
       "</table>\n",
       "</div>"
      ],
      "text/plain": [
       "Empty DataFrame\n",
       "Columns: [ride_id, rideable_type, started_at, ended_at, member_casual]\n",
       "Index: []"
      ]
     },
     "execution_count": 6,
     "metadata": {},
     "output_type": "execute_result"
    }
   ],
   "source": [
    "# # check for duplicate\n",
    "\n",
    "trips_1[trips_1['ride_id'].duplicated()]\n",
    "\n",
    "\n",
    "# trip_dup = trips_2.copy()\n",
    "\n",
    "# # Checking for duplicates and dropping the entire duplicate row if any\n",
    "# trip_dup.drop_duplicates(subset=None, inplace=True)\n",
    "# print(trip_dup.shape)"
   ]
  },
  {
   "cell_type": "markdown",
   "metadata": {},
   "source": [
    "Since the size of the trips_2 and trip_dup are same, there are no duplicate examples."
   ]
  },
  {
   "cell_type": "markdown",
   "metadata": {},
   "source": [
    "## Data transformation and cleaning \n",
    "\n",
    "1- started_at and ended_at columns have object datatype. They should be converted to datetime.\n",
    "\n",
    "2- We'll convert data types of 'rideable_type' and 'member_casual' from str to categorical, and check for their possible values.\n"
   ]
  },
  {
   "cell_type": "code",
   "execution_count": 7,
   "metadata": {
    "execution": {
     "iopub.execute_input": "2022-09-11T22:28:02.363314Z",
     "iopub.status.busy": "2022-09-11T22:28:02.362917Z",
     "iopub.status.idle": "2022-09-11T22:28:09.169889Z",
     "shell.execute_reply": "2022-09-11T22:28:09.168470Z",
     "shell.execute_reply.started": "2022-09-11T22:28:02.363282Z"
    }
   },
   "outputs": [
    {
     "name": "stdout",
     "output_type": "stream",
     "text": [
      "<class 'pandas.core.frame.DataFrame'>\n",
      "Int64Index: 8550827 entries, 0 to 531632\n",
      "Data columns (total 5 columns):\n",
      " #   Column         Dtype         \n",
      "---  ------         -----         \n",
      " 0   ride_id        object        \n",
      " 1   rideable_type  category      \n",
      " 2   member_casual  category      \n",
      " 3   start_time     datetime64[ns]\n",
      " 4   end_time       datetime64[ns]\n",
      "dtypes: category(2), datetime64[ns](2), object(1)\n",
      "memory usage: 277.3+ MB\n"
     ]
    }
   ],
   "source": [
    "trips_1[\"start_time\"] = pd.to_datetime(trips_1[\"started_at\"])\n",
    "trips_1[\"end_time\"] = pd.to_datetime(trips_1[\"ended_at\"])\n",
    "\n",
    "trips_1.drop(columns = ['started_at','ended_at'], axis=1, inplace=True)\n",
    "\n",
    "# instead of above code, we could just use .rename() method as shown below\n",
    "# trips_1.rename(columns={'started_at':'start_time', 'ended_at':'end_time'},  inplace=True)\n",
    "\n",
    "\n",
    "trips_1['rideable_type'] = trips_1['rideable_type'].astype('category')\n",
    "trips_1['member_casual'] = trips_1['member_casual'].astype('category')\n",
    "\n",
    "trips_1.info()\n"
   ]
  },
  {
   "cell_type": "code",
   "execution_count": 8,
   "metadata": {},
   "outputs": [
    {
     "data": {
      "text/plain": [
       "Index(['casual', 'member'], dtype='object')"
      ]
     },
     "execution_count": 8,
     "metadata": {},
     "output_type": "execute_result"
    }
   ],
   "source": [
    "trips_1['member_casual'].cat.categories"
   ]
  },
  {
   "cell_type": "code",
   "execution_count": 9,
   "metadata": {
    "execution": {
     "iopub.execute_input": "2022-09-11T22:28:14.799019Z",
     "iopub.status.busy": "2022-09-11T22:28:14.798609Z",
     "iopub.status.idle": "2022-09-11T22:28:14.805968Z",
     "shell.execute_reply": "2022-09-11T22:28:14.805072Z",
     "shell.execute_reply.started": "2022-09-11T22:28:14.798988Z"
    }
   },
   "outputs": [
    {
     "data": {
      "text/plain": [
       "Index(['classic_bike', 'docked_bike', 'electric_bike'], dtype='object')"
      ]
     },
     "execution_count": 9,
     "metadata": {},
     "output_type": "execute_result"
    }
   ],
   "source": [
    "trips_1['rideable_type'].cat.categories"
   ]
  },
  {
   "cell_type": "markdown",
   "metadata": {},
   "source": [
    "## Create 'ride_length' and 'day_of_week' columns"
   ]
  },
  {
   "cell_type": "code",
   "execution_count": 10,
   "metadata": {
    "execution": {
     "iopub.execute_input": "2022-09-11T22:28:22.387665Z",
     "iopub.status.busy": "2022-09-11T22:28:22.386662Z",
     "iopub.status.idle": "2022-09-11T22:28:23.078648Z",
     "shell.execute_reply": "2022-09-11T22:28:23.077519Z",
     "shell.execute_reply.started": "2022-09-11T22:28:22.387595Z"
    },
    "scrolled": false
   },
   "outputs": [
    {
     "data": {
      "text/plain": [
       "(array([8.549953e+06, 3.490000e+02, 3.120000e+02, 9.200000e+01,\n",
       "        5.400000e+01, 3.400000e+01, 1.800000e+01, 8.000000e+00,\n",
       "        3.000000e+00, 4.000000e+00]),\n",
       " array([ -137. ,  5471.1, 11079.2, 16687.3, 22295.4, 27903.5, 33511.6,\n",
       "        39119.7, 44727.8, 50335.9, 55944. ]),\n",
       " <BarContainer object of 10 artists>)"
      ]
     },
     "execution_count": 10,
     "metadata": {},
     "output_type": "execute_result"
    },
    {
     "data": {
      "image/png": "[encoded data removed]",
      "text/plain": [
       "<Figure size 432x288 with 1 Axes>"
      ]
     },
     "metadata": {
      "needs_background": "light"
     },
     "output_type": "display_data"
    }
   ],
   "source": [
    "# create rid_length in minutes\n",
    "trips_1['ride_length'] = (trips_1['end_time'] - trips_1['start_time'])/pd.Timedelta(minutes=1)\n",
    "trips_1['ride_length'] = trips_1['ride_length'].astype('int32')\n",
    "trips_1['ride_length']\n",
    "\n",
    "plt.hist(trips_1['ride_length'])"
   ]
  },
  {
   "cell_type": "markdown",
   "metadata": {},
   "source": [
    "## Check for irrational rides (rows)"
   ]
  },
  {
   "cell_type": "code",
   "execution_count": 11,
   "metadata": {
    "execution": {
     "iopub.execute_input": "2022-09-11T22:28:26.266856Z",
     "iopub.status.busy": "2022-09-11T22:28:26.266446Z",
     "iopub.status.idle": "2022-09-11T22:28:26.330079Z",
     "shell.execute_reply": "2022-09-11T22:28:26.329228Z",
     "shell.execute_reply.started": "2022-09-11T22:28:26.266822Z"
    }
   },
   "outputs": [
    {
     "data": {
      "text/plain": [
       "ride_id          91215\n",
       "rideable_type    91215\n",
       "member_casual    91215\n",
       "start_time       91215\n",
       "end_time         91215\n",
       "ride_length      91215\n",
       "dtype: int64"
      ]
     },
     "execution_count": 11,
     "metadata": {},
     "output_type": "execute_result"
    }
   ],
   "source": [
    "# Apparently, there are some examples with negative ride_length\n",
    "# trips_1[trips_1['ride_length']<0].count()\n",
    "\n",
    "trips_1[trips_1['ride_length']>120].count()"
   ]
  },
  {
   "cell_type": "markdown",
   "metadata": {},
   "source": [
    "There are 99 examples with negative ride_length.\n",
    "Also, there are 145276 examples with less than 1 minute duration. Assuming the 1 minute as a threshold for reasonable trip, we'll just keep the trips had ride_length greater than 1 min.\n",
    "\n",
    "There are also examples with more than 120 minutes of ride_length which is equal to 2 hours. It is assumed that these examples are not correct. Therefore, we'll delete these examples."
   ]
  },
  {
   "cell_type": "code",
   "execution_count": 12,
   "metadata": {
    "execution": {
     "iopub.execute_input": "2022-09-11T22:28:28.798216Z",
     "iopub.status.busy": "2022-09-11T22:28:28.797834Z",
     "iopub.status.idle": "2022-09-11T22:28:30.124607Z",
     "shell.execute_reply": "2022-09-11T22:28:30.123775Z",
     "shell.execute_reply.started": "2022-09-11T22:28:28.798187Z"
    }
   },
   "outputs": [
    {
     "name": "stdout",
     "output_type": "stream",
     "text": [
      "(8550827, 6)\n",
      "(8405551, 6)\n",
      "(8314336, 6)\n"
     ]
    }
   ],
   "source": [
    "print (trips_1.shape)\n",
    "trips_1 = trips_1[trips_1['ride_length']>=1]\n",
    "print (trips_1.shape)\n",
    "\n",
    "trips_1 = trips_1[trips_1['ride_length']<=120]\n",
    "print (trips_1.shape)\n",
    "\n",
    "###### Another approach to delete these rows-->\n",
    "# index_num = trips_1[trips_1['ride_length']<1].index\n",
    "# trips_1 = trips_1.drop(index_num)"
   ]
  },
  {
   "cell_type": "code",
   "execution_count": 13,
   "metadata": {
    "execution": {
     "iopub.execute_input": "2022-09-11T22:28:32.681986Z",
     "iopub.status.busy": "2022-09-11T22:28:32.680136Z",
     "iopub.status.idle": "2022-09-11T22:28:33.060412Z",
     "shell.execute_reply": "2022-09-11T22:28:33.059124Z",
     "shell.execute_reply.started": "2022-09-11T22:28:32.681932Z"
    }
   },
   "outputs": [
    {
     "data": {
      "text/plain": [
       "(array([4564196., 2177423.,  825661.,  338807.,  155993.,   93884.,\n",
       "          62288.,   43365.,   30629.,   22090.]),\n",
       " array([  1. ,  12.9,  24.8,  36.7,  48.6,  60.5,  72.4,  84.3,  96.2,\n",
       "        108.1, 120. ]),\n",
       " <BarContainer object of 10 artists>)"
      ]
     },
     "execution_count": 13,
     "metadata": {},
     "output_type": "execute_result"
    },
    {
     "data": {
      "image/png": "[encoded data removed]",
      "text/plain": [
       "<Figure size 432x288 with 1 Axes>"
      ]
     },
     "metadata": {
      "needs_background": "light"
     },
     "output_type": "display_data"
    }
   ],
   "source": [
    "plt.hist(trips_1['ride_length'])"
   ]
  },
  {
   "cell_type": "code",
   "execution_count": 14,
   "metadata": {
    "execution": {
     "iopub.execute_input": "2022-09-11T22:28:36.736834Z",
     "iopub.status.busy": "2022-09-11T22:28:36.736383Z",
     "iopub.status.idle": "2022-09-11T22:29:26.579487Z",
     "shell.execute_reply": "2022-09-11T22:29:26.578110Z",
     "shell.execute_reply.started": "2022-09-11T22:28:36.736799Z"
    }
   },
   "outputs": [],
   "source": [
    "# create column for time the trip started\n",
    "trips_1['hour'] = trips_1['start_time'].dt.strftime('%H')\n",
    "\n",
    "# create column for day of the week the trip started\n",
    "trips_1['day_of_the_week'] = trips_1['start_time'].dt.day_name()\n",
    "\n",
    "# create column for month when the trip started\n",
    "trips_1['month'] = trips_1['start_time'].dt.month_name()\n",
    "\n",
    "# create column for year when the trip started\n",
    "trips_1['year'] = trips_1['start_time'].dt.year\n",
    "\n",
    "#### two ways to assign a data type to categorical\n",
    "trips_1['hour'] = trips_1['hour'].astype('category')\n",
    "trips_1['year'] = trips_1['year'].astype('category')\n",
    "\n",
    "\n",
    "trips_1['month'] = pd.Categorical(trips_1['month'], categories=\n",
    "    ['January','February','March','April','May','June', 'July', 'August', 'September', 'October', 'November', 'December'],\n",
    "    ordered=True)\n",
    "\n",
    "trips_1['day_of_the_week'] = pd.Categorical(trips_1['day_of_the_week'], categories=\n",
    "    ['Monday','Tuesday','Wednesday','Thursday','Friday','Saturday', 'Sunday'],\n",
    "    ordered=True)"
   ]
  },
  {
   "cell_type": "code",
   "execution_count": 15,
   "metadata": {
    "execution": {
     "iopub.execute_input": "2022-09-11T22:29:37.570559Z",
     "iopub.status.busy": "2022-09-11T22:29:37.569784Z",
     "iopub.status.idle": "2022-09-11T22:29:37.587781Z",
     "shell.execute_reply": "2022-09-11T22:29:37.586405Z",
     "shell.execute_reply.started": "2022-09-11T22:29:37.570517Z"
    }
   },
   "outputs": [
    {
     "data": {
      "text/html": [
       "<div>\n",
       "<style scoped>\n",
       "    .dataframe tbody tr th:only-of-type {\n",
       "        vertical-align: middle;\n",
       "    }\n",
       "\n",
       "    .dataframe tbody tr th {\n",
       "        vertical-align: top;\n",
       "    }\n",
       "\n",
       "    .dataframe thead th {\n",
       "        text-align: right;\n",
       "    }\n",
       "</style>\n",
       "<table border=\"1\" class=\"dataframe\">\n",
       "  <thead>\n",
       "    <tr style=\"text-align: right;\">\n",
       "      <th></th>\n",
       "      <th>ride_id</th>\n",
       "      <th>rideable_type</th>\n",
       "      <th>member_casual</th>\n",
       "      <th>start_time</th>\n",
       "      <th>end_time</th>\n",
       "      <th>ride_length</th>\n",
       "      <th>hour</th>\n",
       "      <th>day_of_the_week</th>\n",
       "      <th>month</th>\n",
       "      <th>year</th>\n",
       "    </tr>\n",
       "  </thead>\n",
       "  <tbody>\n",
       "    <tr>\n",
       "      <th>0</th>\n",
       "      <td>EC2DE40644C6B0F4</td>\n",
       "      <td>classic_bike</td>\n",
       "      <td>member</td>\n",
       "      <td>2022-05-23 23:06:58</td>\n",
       "      <td>2022-05-23 23:40:19</td>\n",
       "      <td>33</td>\n",
       "      <td>23</td>\n",
       "      <td>Monday</td>\n",
       "      <td>May</td>\n",
       "      <td>2022</td>\n",
       "    </tr>\n",
       "    <tr>\n",
       "      <th>1</th>\n",
       "      <td>1C31AD03897EE385</td>\n",
       "      <td>classic_bike</td>\n",
       "      <td>member</td>\n",
       "      <td>2022-05-11 08:53:28</td>\n",
       "      <td>2022-05-11 09:31:22</td>\n",
       "      <td>37</td>\n",
       "      <td>08</td>\n",
       "      <td>Wednesday</td>\n",
       "      <td>May</td>\n",
       "      <td>2022</td>\n",
       "    </tr>\n",
       "    <tr>\n",
       "      <th>2</th>\n",
       "      <td>1542FBEC830415CF</td>\n",
       "      <td>classic_bike</td>\n",
       "      <td>member</td>\n",
       "      <td>2022-05-26 18:36:28</td>\n",
       "      <td>2022-05-26 18:58:18</td>\n",
       "      <td>21</td>\n",
       "      <td>18</td>\n",
       "      <td>Thursday</td>\n",
       "      <td>May</td>\n",
       "      <td>2022</td>\n",
       "    </tr>\n",
       "    <tr>\n",
       "      <th>3</th>\n",
       "      <td>6FF59852924528F8</td>\n",
       "      <td>classic_bike</td>\n",
       "      <td>member</td>\n",
       "      <td>2022-05-10 07:30:07</td>\n",
       "      <td>2022-05-10 07:38:49</td>\n",
       "      <td>8</td>\n",
       "      <td>07</td>\n",
       "      <td>Tuesday</td>\n",
       "      <td>May</td>\n",
       "      <td>2022</td>\n",
       "    </tr>\n",
       "    <tr>\n",
       "      <th>4</th>\n",
       "      <td>483C52CAAE12E3AC</td>\n",
       "      <td>classic_bike</td>\n",
       "      <td>member</td>\n",
       "      <td>2022-05-10 17:31:56</td>\n",
       "      <td>2022-05-10 17:36:57</td>\n",
       "      <td>5</td>\n",
       "      <td>17</td>\n",
       "      <td>Tuesday</td>\n",
       "      <td>May</td>\n",
       "      <td>2022</td>\n",
       "    </tr>\n",
       "  </tbody>\n",
       "</table>\n",
       "</div>"
      ],
      "text/plain": [
       "            ride_id rideable_type member_casual          start_time  \\\n",
       "0  EC2DE40644C6B0F4  classic_bike        member 2022-05-23 23:06:58   \n",
       "1  1C31AD03897EE385  classic_bike        member 2022-05-11 08:53:28   \n",
       "2  1542FBEC830415CF  classic_bike        member 2022-05-26 18:36:28   \n",
       "3  6FF59852924528F8  classic_bike        member 2022-05-10 07:30:07   \n",
       "4  483C52CAAE12E3AC  classic_bike        member 2022-05-10 17:31:56   \n",
       "\n",
       "             end_time  ride_length hour day_of_the_week month  year  \n",
       "0 2022-05-23 23:40:19           33   23          Monday   May  2022  \n",
       "1 2022-05-11 09:31:22           37   08       Wednesday   May  2022  \n",
       "2 2022-05-26 18:58:18           21   18        Thursday   May  2022  \n",
       "3 2022-05-10 07:38:49            8   07         Tuesday   May  2022  \n",
       "4 2022-05-10 17:36:57            5   17         Tuesday   May  2022  "
      ]
     },
     "execution_count": 15,
     "metadata": {},
     "output_type": "execute_result"
    }
   ],
   "source": [
    "trips_1.head()\n"
   ]
  },
  {
   "cell_type": "code",
   "execution_count": 16,
   "metadata": {
    "execution": {
     "iopub.execute_input": "2022-09-11T22:29:42.245937Z",
     "iopub.status.busy": "2022-09-11T22:29:42.245487Z",
     "iopub.status.idle": "2022-09-11T22:29:42.261262Z",
     "shell.execute_reply": "2022-09-11T22:29:42.260012Z",
     "shell.execute_reply.started": "2022-09-11T22:29:42.245901Z"
    }
   },
   "outputs": [
    {
     "name": "stdout",
     "output_type": "stream",
     "text": [
      "<class 'pandas.core.frame.DataFrame'>\n",
      "Int64Index: 8314336 entries, 0 to 531632\n",
      "Data columns (total 10 columns):\n",
      " #   Column           Dtype         \n",
      "---  ------           -----         \n",
      " 0   ride_id          object        \n",
      " 1   rideable_type    category      \n",
      " 2   member_casual    category      \n",
      " 3   start_time       datetime64[ns]\n",
      " 4   end_time         datetime64[ns]\n",
      " 5   ride_length      int32         \n",
      " 6   hour             category      \n",
      " 7   day_of_the_week  category      \n",
      " 8   month            category      \n",
      " 9   year             category      \n",
      "dtypes: category(6), datetime64[ns](2), int32(1), object(1)\n",
      "memory usage: 333.0+ MB\n"
     ]
    }
   ],
   "source": [
    "trips_1.info()"
   ]
  },
  {
   "cell_type": "markdown",
   "metadata": {},
   "source": [
    "Create a csv file of the clean data."
   ]
  },
  {
   "cell_type": "code",
   "execution_count": 17,
   "metadata": {
    "execution": {
     "iopub.status.busy": "2022-09-11T22:27:07.332626Z",
     "iopub.status.idle": "2022-09-11T22:27:07.333029Z",
     "shell.execute_reply": "2022-09-11T22:27:07.332864Z",
     "shell.execute_reply.started": "2022-09-11T22:27:07.332845Z"
    }
   },
   "outputs": [],
   "source": [
    "trips_1.to_csv('trips_1.csv',index=False,header=True)"
   ]
  },
  {
   "cell_type": "markdown",
   "metadata": {},
   "source": [
    "# 4- Analyze\n",
    "## Perform calculations and aggregate data to identify trends"
   ]
  },
  {
   "cell_type": "code",
   "execution_count": 18,
   "metadata": {
    "execution": {
     "iopub.execute_input": "2022-09-11T22:29:50.092766Z",
     "iopub.status.busy": "2022-09-11T22:29:50.092326Z",
     "iopub.status.idle": "2022-09-11T22:29:50.408940Z",
     "shell.execute_reply": "2022-09-11T22:29:50.407721Z",
     "shell.execute_reply.started": "2022-09-11T22:29:50.092727Z"
    },
    "scrolled": true
   },
   "outputs": [
    {
     "data": {
      "text/html": [
       "<div>\n",
       "<style scoped>\n",
       "    .dataframe tbody tr th:only-of-type {\n",
       "        vertical-align: middle;\n",
       "    }\n",
       "\n",
       "    .dataframe tbody tr th {\n",
       "        vertical-align: top;\n",
       "    }\n",
       "\n",
       "    .dataframe thead th {\n",
       "        text-align: right;\n",
       "    }\n",
       "</style>\n",
       "<table border=\"1\" class=\"dataframe\">\n",
       "  <thead>\n",
       "    <tr style=\"text-align: right;\">\n",
       "      <th></th>\n",
       "      <th>ride_length</th>\n",
       "    </tr>\n",
       "  </thead>\n",
       "  <tbody>\n",
       "    <tr>\n",
       "      <th>count</th>\n",
       "      <td>8.314336e+06</td>\n",
       "    </tr>\n",
       "    <tr>\n",
       "      <th>mean</th>\n",
       "      <td>1.640077e+01</td>\n",
       "    </tr>\n",
       "    <tr>\n",
       "      <th>std</th>\n",
       "      <td>1.638940e+01</td>\n",
       "    </tr>\n",
       "    <tr>\n",
       "      <th>min</th>\n",
       "      <td>1.000000e+00</td>\n",
       "    </tr>\n",
       "    <tr>\n",
       "      <th>25%</th>\n",
       "      <td>6.000000e+00</td>\n",
       "    </tr>\n",
       "    <tr>\n",
       "      <th>50%</th>\n",
       "      <td>1.100000e+01</td>\n",
       "    </tr>\n",
       "    <tr>\n",
       "      <th>75%</th>\n",
       "      <td>2.000000e+01</td>\n",
       "    </tr>\n",
       "    <tr>\n",
       "      <th>max</th>\n",
       "      <td>1.200000e+02</td>\n",
       "    </tr>\n",
       "  </tbody>\n",
       "</table>\n",
       "</div>"
      ],
      "text/plain": [
       "        ride_length\n",
       "count  8.314336e+06\n",
       "mean   1.640077e+01\n",
       "std    1.638940e+01\n",
       "min    1.000000e+00\n",
       "25%    6.000000e+00\n",
       "50%    1.100000e+01\n",
       "75%    2.000000e+01\n",
       "max    1.200000e+02"
      ]
     },
     "execution_count": 18,
     "metadata": {},
     "output_type": "execute_result"
    }
   ],
   "source": [
    "trips_1.describe()"
   ]
  },
  {
   "cell_type": "markdown",
   "metadata": {},
   "source": [
    "#### The only quantitative variable is ride_length for which descriptive statistics is shown above. As seen, the average ride length is 16 minutes. The min and max are, respectively 1 and 120 minutes same as the threshold that we chose when cleaning the dataset.\n",
    "\n",
    "#### Next, we will group the available data by their riders type (field name: 'member_casual') to see the difference in the total number of rides, total ride length and average ride length by these two groups."
   ]
  },
  {
   "cell_type": "code",
   "execution_count": 19,
   "metadata": {
    "execution": {
     "iopub.execute_input": "2022-09-11T22:29:59.948295Z",
     "iopub.status.busy": "2022-09-11T22:29:59.947910Z",
     "iopub.status.idle": "2022-09-11T22:30:02.238656Z",
     "shell.execute_reply": "2022-09-11T22:30:02.237205Z",
     "shell.execute_reply.started": "2022-09-11T22:29:59.948265Z"
    },
    "scrolled": true
   },
   "outputs": [
    {
     "name": "stdout",
     "output_type": "stream",
     "text": [
      "                 count\n",
      "               ride_id\n",
      "member_casual         \n",
      "casual         3671643\n",
      "member         4642693\n"
     ]
    },
    {
     "data": {
      "text/html": [
       "<div>\n",
       "<style scoped>\n",
       "    .dataframe tbody tr th:only-of-type {\n",
       "        vertical-align: middle;\n",
       "    }\n",
       "\n",
       "    .dataframe tbody tr th {\n",
       "        vertical-align: top;\n",
       "    }\n",
       "\n",
       "    .dataframe thead th {\n",
       "        text-align: right;\n",
       "    }\n",
       "</style>\n",
       "<table border=\"1\" class=\"dataframe\">\n",
       "  <thead>\n",
       "    <tr style=\"text-align: right;\">\n",
       "      <th></th>\n",
       "      <th>No. of rides</th>\n",
       "    </tr>\n",
       "  </thead>\n",
       "  <tbody>\n",
       "    <tr>\n",
       "      <th>member</th>\n",
       "      <td>4642693</td>\n",
       "    </tr>\n",
       "    <tr>\n",
       "      <th>casual</th>\n",
       "      <td>3671643</td>\n",
       "    </tr>\n",
       "  </tbody>\n",
       "</table>\n",
       "</div>"
      ],
      "text/plain": [
       "        No. of rides\n",
       "member       4642693\n",
       "casual       3671643"
      ]
     },
     "execution_count": 19,
     "metadata": {},
     "output_type": "execute_result"
    }
   ],
   "source": [
    "trip_by_member = pd.pivot_table(trips_1,\n",
    "              index = 'member_casual',\n",
    "              values = 'ride_id',\n",
    "              aggfunc = ['count'],\n",
    "              margins = False,\n",
    "              margins_name = 'Total Count')\n",
    "print(trip_by_member)\n",
    "\n",
    "# Another approach to count the rides for different customer types is as follows:\n",
    "pd.DataFrame(trips_1['member_casual'].value_counts()).rename(columns={'member_casual':'No. of rides'})\n"
   ]
  },
  {
   "cell_type": "code",
   "execution_count": 20,
   "metadata": {
    "execution": {
     "iopub.execute_input": "2022-09-11T22:30:04.736471Z",
     "iopub.status.busy": "2022-09-11T22:30:04.736047Z",
     "iopub.status.idle": "2022-09-11T22:30:05.790426Z",
     "shell.execute_reply": "2022-09-11T22:30:05.789293Z",
     "shell.execute_reply.started": "2022-09-11T22:30:04.736425Z"
    }
   },
   "outputs": [
    {
     "name": "stdout",
     "output_type": "stream",
     "text": [
      "                    count         sum        mean\n",
      "              ride_length ride_length ride_length\n",
      "member_casual                                    \n",
      "casual            3671643    79063305   21.533495\n",
      "member            4642693    57298175   12.341582\n",
      "\n",
      "Total Duration Time (Members) : 57298175 Minutes\n",
      "ratio of member to casual riders (total ride number): 1.264472880397141\n",
      "ratio of member to casual riders (total ride length): 0.7247126211078578\n"
     ]
    }
   ],
   "source": [
    "ride_len_by_member = pd.pivot_table(trips_1,\n",
    "              index = 'member_casual',\n",
    "              values = 'ride_length',\n",
    "              aggfunc = ['count' ,np.sum, np.mean],\n",
    "              margins = False,\n",
    "              margins_name = 'Total Count')\n",
    "print(ride_len_by_member)\n",
    "print('')\n",
    "# Another approach to obtain sum of the ride_length is as follows:\n",
    "print('Total Duration Time (Members) : ' + str(int(trips_1.loc[trips_1['member_casual'] == 'member', 'ride_length'].sum())) + ' Minutes')\n",
    "\n",
    "print('ratio of member to casual riders (total ride number):' , ride_len_by_member.loc['member','count'].ride_length/ ride_len_by_member.loc['casual','count'].ride_length) \n",
    "print('ratio of member to casual riders (total ride length):' , ride_len_by_member.loc['member','sum'].ride_length/ ride_len_by_member.loc['casual','sum'].ride_length) \n",
    "\n"
   ]
  },
  {
   "cell_type": "code",
   "execution_count": 21,
   "metadata": {},
   "outputs": [
    {
     "data": {
      "image/png": "[encoded data removed]",
      "text/plain": [
       "<Figure size 648x360 with 3 Axes>"
      ]
     },
     "metadata": {
      "needs_background": "light"
     },
     "output_type": "display_data"
    }
   ],
   "source": [
    "fig, (ax1, ax2, ax3) = plt.subplots(1,3)\n",
    "trip_by_member['count'].T.plot(kind='bar', ylabel='Total number of trips', figsize= (9,5), ax=ax1)\n",
    "ride_len_by_member['sum'].T.plot(kind='bar', ylabel='Total ride length (min)', figsize= (9,5), ax=ax2)\n",
    "ride_len_by_member['mean'].T.plot(kind='bar', ylabel='Mean ride length (min)', figsize= (9,5), ax=ax3)\n",
    "fig.tight_layout()"
   ]
  },
  {
   "cell_type": "markdown",
   "metadata": {},
   "source": [
    "#### It is seen from above table that while members have riden the bikes 26% more, their total ride time is 28% lower than the casual members.\n",
    "\n",
    "\n",
    " \n",
    "\n"
   ]
  },
  {
   "cell_type": "code",
   "execution_count": 23,
   "metadata": {},
   "outputs": [
    {
     "data": {
      "text/html": [
       "<div>\n",
       "<style scoped>\n",
       "    .dataframe tbody tr th:only-of-type {\n",
       "        vertical-align: middle;\n",
       "    }\n",
       "\n",
       "    .dataframe tbody tr th {\n",
       "        vertical-align: top;\n",
       "    }\n",
       "\n",
       "    .dataframe thead th {\n",
       "        text-align: right;\n",
       "    }\n",
       "</style>\n",
       "<table border=\"1\" class=\"dataframe\">\n",
       "  <thead>\n",
       "    <tr style=\"text-align: right;\">\n",
       "      <th></th>\n",
       "      <th>member_casual</th>\n",
       "      <th>ride_length</th>\n",
       "    </tr>\n",
       "  </thead>\n",
       "  <tbody>\n",
       "    <tr>\n",
       "      <th>0</th>\n",
       "      <td>casual</td>\n",
       "      <td>79063305</td>\n",
       "    </tr>\n",
       "    <tr>\n",
       "      <th>1</th>\n",
       "      <td>member</td>\n",
       "      <td>57298175</td>\n",
       "    </tr>\n",
       "  </tbody>\n",
       "</table>\n",
       "</div>"
      ],
      "text/plain": [
       "  member_casual  ride_length\n",
       "0        casual     79063305\n",
       "1        member     57298175"
      ]
     },
     "execution_count": 23,
     "metadata": {},
     "output_type": "execute_result"
    }
   ],
   "source": [
    "# The same result can be obtained by groupby method instead of pivot_table\n",
    "tr_by_year_month_mem = trips_1.groupby(['member_casual'], as_index=False)\n",
    "tr_by_year_month_mem['ride_length'].sum()\n"
   ]
  },
  {
   "cell_type": "markdown",
   "metadata": {},
   "source": [
    "## Group by ride type"
   ]
  },
  {
   "cell_type": "code",
   "execution_count": 24,
   "metadata": {
    "execution": {
     "iopub.execute_input": "2022-09-11T22:30:18.979980Z",
     "iopub.status.busy": "2022-09-11T22:30:18.979544Z",
     "iopub.status.idle": "2022-09-11T22:30:20.649858Z",
     "shell.execute_reply": "2022-09-11T22:30:20.648990Z",
     "shell.execute_reply.started": "2022-09-11T22:30:18.979945Z"
    },
    "scrolled": false
   },
   "outputs": [
    {
     "data": {
      "text/html": [
       "<div>\n",
       "<style scoped>\n",
       "    .dataframe tbody tr th:only-of-type {\n",
       "        vertical-align: middle;\n",
       "    }\n",
       "\n",
       "    .dataframe tbody tr th {\n",
       "        vertical-align: top;\n",
       "    }\n",
       "\n",
       "    .dataframe thead tr th {\n",
       "        text-align: left;\n",
       "    }\n",
       "\n",
       "    .dataframe thead tr:last-of-type th {\n",
       "        text-align: right;\n",
       "    }\n",
       "</style>\n",
       "<table border=\"1\" class=\"dataframe\">\n",
       "  <thead>\n",
       "    <tr>\n",
       "      <th></th>\n",
       "      <th colspan=\"3\" halign=\"left\">sum</th>\n",
       "      <th colspan=\"3\" halign=\"left\">mean</th>\n",
       "    </tr>\n",
       "    <tr>\n",
       "      <th>rideable_type</th>\n",
       "      <th>classic_bike</th>\n",
       "      <th>docked_bike</th>\n",
       "      <th>electric_bike</th>\n",
       "      <th>classic_bike</th>\n",
       "      <th>docked_bike</th>\n",
       "      <th>electric_bike</th>\n",
       "    </tr>\n",
       "    <tr>\n",
       "      <th>member_casual</th>\n",
       "      <th></th>\n",
       "      <th></th>\n",
       "      <th></th>\n",
       "      <th></th>\n",
       "      <th></th>\n",
       "      <th></th>\n",
       "    </tr>\n",
       "  </thead>\n",
       "  <tbody>\n",
       "    <tr>\n",
       "      <th>casual</th>\n",
       "      <td>38208020</td>\n",
       "      <td>13238304</td>\n",
       "      <td>27616981</td>\n",
       "      <td>21.907728</td>\n",
       "      <td>34.567109</td>\n",
       "      <td>17.879397</td>\n",
       "    </tr>\n",
       "    <tr>\n",
       "      <th>member</th>\n",
       "      <td>36105853</td>\n",
       "      <td>0</td>\n",
       "      <td>21192322</td>\n",
       "      <td>12.791696</td>\n",
       "      <td>NaN</td>\n",
       "      <td>11.643544</td>\n",
       "    </tr>\n",
       "  </tbody>\n",
       "</table>\n",
       "</div>"
      ],
      "text/plain": [
       "                       sum                                   mean              \\\n",
       "rideable_type classic_bike docked_bike electric_bike classic_bike docked_bike   \n",
       "member_casual                                                                   \n",
       "casual            38208020    13238304      27616981    21.907728   34.567109   \n",
       "member            36105853           0      21192322    12.791696         NaN   \n",
       "\n",
       "                             \n",
       "rideable_type electric_bike  \n",
       "member_casual                \n",
       "casual            17.879397  \n",
       "member            11.643544  "
      ]
     },
     "execution_count": 24,
     "metadata": {},
     "output_type": "execute_result"
    }
   ],
   "source": [
    "ride_len_by_mem_per_type = pd.pivot_table(trips_1,\n",
    "              index = ['member_casual' ],\n",
    "              values = 'ride_length',\n",
    "              columns= 'rideable_type',                    \n",
    "              aggfunc = [np.sum, np.mean],\n",
    "              margins = False,\n",
    "              margins_name = 'Total Count')\n",
    "ride_len_by_mem_per_type"
   ]
  },
  {
   "cell_type": "code",
   "execution_count": 25,
   "metadata": {},
   "outputs": [
    {
     "name": "stdout",
     "output_type": "stream",
     "text": [
      "ratio of number of ride for docked bikes to total number of rides by casual users\n",
      "0.10430589248464515\n",
      "ratio of number of ride for docked bikes to total number of rides by members\n",
      "0.0\n"
     ]
    }
   ],
   "source": [
    "print('ratio of number of ride for docked bikes to total number of rides by casual users')\n",
    "print (trips_1[(trips_1['rideable_type'] == 'docked_bike') & (trips_1['member_casual'] == 'casual')]['ride_id'].count() /trips_1['member_casual'].value_counts().casual)\n",
    "\n",
    "print('ratio of number of ride for docked bikes to total number of rides by members')\n",
    "print (trips_1[(trips_1['rideable_type'] == 'docked_bike') & (trips_1['member_casual'] == 'member')]['ride_id'].count() /trips_1['member_casual'].value_counts().member)\n"
   ]
  },
  {
   "cell_type": "markdown",
   "metadata": {},
   "source": [
    "#### It seems that the docked bikes are not available for members. Therefore, it would be more insightful if we make a comparison of the customers ride pattern while focusing at the data in which the docked bikes are removed."
   ]
  },
  {
   "cell_type": "markdown",
   "metadata": {},
   "source": [
    "# Remove docked bike"
   ]
  },
  {
   "cell_type": "code",
   "execution_count": 26,
   "metadata": {},
   "outputs": [
    {
     "data": {
      "text/plain": [
       "member    4642693\n",
       "casual    3288669\n",
       "Name: member_casual, dtype: int64"
      ]
     },
     "execution_count": 26,
     "metadata": {},
     "output_type": "execute_result"
    }
   ],
   "source": [
    "trips_2 = trips_1[trips_1['rideable_type'] != 'docked_bike']\n",
    "# trips_2.info()\n",
    "trips_2['member_casual'].value_counts()\n"
   ]
  },
  {
   "cell_type": "code",
   "execution_count": 27,
   "metadata": {},
   "outputs": [
    {
     "name": "stderr",
     "output_type": "stream",
     "text": [
      "/var/folders/h5/8yxp_kmx1wn66zrygjd28qcw0000gn/T/ipykernel_5252/880071432.py:2: SettingWithCopyWarning: \n",
      "A value is trying to be set on a copy of a slice from a DataFrame.\n",
      "Try using .loc[row_indexer,col_indexer] = value instead\n",
      "\n",
      "See the caveats in the documentation: https://pandas.pydata.org/pandas-docs/stable/user_guide/indexing.html#returning-a-view-versus-a-copy\n",
      "  trips_2['rideable_type']= trips_2['rideable_type'].cat.remove_unused_categories()\n"
     ]
    },
    {
     "data": {
      "text/plain": [
       "classic_bike     4566644\n",
       "electric_bike    3364718\n",
       "Name: rideable_type, dtype: int64"
      ]
     },
     "execution_count": 27,
     "metadata": {},
     "output_type": "execute_result"
    }
   ],
   "source": [
    "trips_2['rideable_type'].value_counts()\n",
    "trips_2['rideable_type']= trips_2['rideable_type'].cat.remove_unused_categories()\n",
    "trips_2['rideable_type'].value_counts()\n",
    "\n"
   ]
  },
  {
   "cell_type": "code",
   "execution_count": 28,
   "metadata": {
    "scrolled": true
   },
   "outputs": [
    {
     "name": "stdout",
     "output_type": "stream",
     "text": [
      "3288669\n"
     ]
    }
   ],
   "source": [
    "a = trips_2['member_casual'].value_counts()\n",
    "print(a.casual)"
   ]
  },
  {
   "cell_type": "code",
   "execution_count": 29,
   "metadata": {
    "execution": {
     "iopub.execute_input": "2022-09-11T22:30:04.736471Z",
     "iopub.status.busy": "2022-09-11T22:30:04.736047Z",
     "iopub.status.idle": "2022-09-11T22:30:05.790426Z",
     "shell.execute_reply": "2022-09-11T22:30:05.789293Z",
     "shell.execute_reply.started": "2022-09-11T22:30:04.736425Z"
    }
   },
   "outputs": [
    {
     "name": "stdout",
     "output_type": "stream",
     "text": [
      "                    count         sum        mean\n",
      "              ride_length ride_length ride_length\n",
      "member_casual                                    \n",
      "casual            3288669    65825001   20.015697\n",
      "member            4642693    57298175   12.341582\n",
      "ratio of member to casual riders (total ride number): 1.4117240135750968\n",
      "ratio of member to casual riders (total ride length): 0.8704621971824961\n",
      "ratio of casual to member riders (total ride length): 1.6218096755316336\n"
     ]
    }
   ],
   "source": [
    "ride_len_by_member2 = pd.pivot_table(trips_2,\n",
    "              index = 'member_casual',\n",
    "              values = 'ride_length',\n",
    "              aggfunc = ['count', np.sum, np.mean],\n",
    "              margins = False,\n",
    "              margins_name = 'Total Count')\n",
    "print(ride_len_by_member2)\n",
    "\n",
    "print('ratio of member to casual riders (total ride number):' , ride_len_by_member2.loc['member','count'].ride_length/ ride_len_by_member2.loc['casual','count'].ride_length) \n",
    "print('ratio of member to casual riders (total ride length):' , ride_len_by_member2.loc['member','sum'].ride_length/ ride_len_by_member2.loc['casual','sum'].ride_length) \n",
    "print('ratio of casual to member riders (total ride length):' , ride_len_by_member2.loc['casual','mean'].ride_length/ ride_len_by_member2.loc['member','mean'].ride_length) \n"
   ]
  },
  {
   "cell_type": "code",
   "execution_count": 31,
   "metadata": {},
   "outputs": [
    {
     "data": {
      "image/png": "[encoded data removed]",
      "text/plain": [
       "<Figure size 864x216 with 3 Axes>"
      ]
     },
     "metadata": {
      "needs_background": "light"
     },
     "output_type": "display_data"
    }
   ],
   "source": [
    "fig, (ax1, ax2, ax3) = plt.subplots(1,3)\n",
    "ride_len_by_member2['count'].T.plot(kind='bar', ylabel='Total number of trips', figsize= (12,3), ax=ax1)\n",
    "ride_len_by_member2['sum'].T.plot(kind='bar', ylabel='Total ride length (min)', figsize= (12,3), ax=ax2)\n",
    "ride_len_by_member2['mean'].T.plot(kind='bar', ylabel='Mean ride length (min)', figsize= (12,3), ax=ax3)\n",
    "fig.tight_layout()"
   ]
  },
  {
   "cell_type": "markdown",
   "metadata": {},
   "source": [
    "#### Following the removal of the docked bike, as expected the total number of rides by members is much more higher than that of the casual users (about 41%). Nevertheless, the total ride length by members is 13% lower than casual users.\n",
    "#### Also, the average duration of each ride of casual users is 62% higher than members.\n"
   ]
  },
  {
   "cell_type": "markdown",
   "metadata": {},
   "source": [
    "# 5- Share\n",
    "##  Visualizations and key findings\n",
    "\n",
    "\n",
    "\n",
    "##\n",
    "## Group by ride type"
   ]
  },
  {
   "cell_type": "code",
   "execution_count": 32,
   "metadata": {
    "execution": {
     "iopub.execute_input": "2022-09-11T22:30:18.979980Z",
     "iopub.status.busy": "2022-09-11T22:30:18.979544Z",
     "iopub.status.idle": "2022-09-11T22:30:20.649858Z",
     "shell.execute_reply": "2022-09-11T22:30:20.648990Z",
     "shell.execute_reply.started": "2022-09-11T22:30:18.979945Z"
    }
   },
   "outputs": [
    {
     "data": {
      "text/html": [
       "<div>\n",
       "<style scoped>\n",
       "    .dataframe tbody tr th:only-of-type {\n",
       "        vertical-align: middle;\n",
       "    }\n",
       "\n",
       "    .dataframe tbody tr th {\n",
       "        vertical-align: top;\n",
       "    }\n",
       "\n",
       "    .dataframe thead tr th {\n",
       "        text-align: left;\n",
       "    }\n",
       "\n",
       "    .dataframe thead tr:last-of-type th {\n",
       "        text-align: right;\n",
       "    }\n",
       "</style>\n",
       "<table border=\"1\" class=\"dataframe\">\n",
       "  <thead>\n",
       "    <tr>\n",
       "      <th></th>\n",
       "      <th colspan=\"2\" halign=\"left\">sum</th>\n",
       "      <th colspan=\"2\" halign=\"left\">mean</th>\n",
       "    </tr>\n",
       "    <tr>\n",
       "      <th>rideable_type</th>\n",
       "      <th>classic_bike</th>\n",
       "      <th>electric_bike</th>\n",
       "      <th>classic_bike</th>\n",
       "      <th>electric_bike</th>\n",
       "    </tr>\n",
       "    <tr>\n",
       "      <th>member_casual</th>\n",
       "      <th></th>\n",
       "      <th></th>\n",
       "      <th></th>\n",
       "      <th></th>\n",
       "    </tr>\n",
       "  </thead>\n",
       "  <tbody>\n",
       "    <tr>\n",
       "      <th>casual</th>\n",
       "      <td>38208020</td>\n",
       "      <td>27616981</td>\n",
       "      <td>21.907728</td>\n",
       "      <td>17.879397</td>\n",
       "    </tr>\n",
       "    <tr>\n",
       "      <th>member</th>\n",
       "      <td>36105853</td>\n",
       "      <td>21192322</td>\n",
       "      <td>12.791696</td>\n",
       "      <td>11.643544</td>\n",
       "    </tr>\n",
       "  </tbody>\n",
       "</table>\n",
       "</div>"
      ],
      "text/plain": [
       "                       sum                       mean              \n",
       "rideable_type classic_bike electric_bike classic_bike electric_bike\n",
       "member_casual                                                      \n",
       "casual            38208020      27616981    21.907728     17.879397\n",
       "member            36105853      21192322    12.791696     11.643544"
      ]
     },
     "execution_count": 32,
     "metadata": {},
     "output_type": "execute_result"
    }
   ],
   "source": [
    "ride_len_by_mem_per_type2 = pd.pivot_table(trips_2,\n",
    "              index = ['member_casual' ],\n",
    "              values = 'ride_length',\n",
    "              columns= 'rideable_type',                    \n",
    "              aggfunc = [np.sum, np.mean],\n",
    "              margins = False,\n",
    "              margins_name = 'Total Count')\n",
    "ride_len_by_mem_per_type2"
   ]
  },
  {
   "cell_type": "code",
   "execution_count": 33,
   "metadata": {
    "execution": {
     "iopub.execute_input": "2022-09-11T22:42:05.576453Z",
     "iopub.status.busy": "2022-09-11T22:42:05.576058Z",
     "iopub.status.idle": "2022-09-11T22:42:05.798204Z",
     "shell.execute_reply": "2022-09-11T22:42:05.797335Z",
     "shell.execute_reply.started": "2022-09-11T22:42:05.576423Z"
    },
    "scrolled": false
   },
   "outputs": [
    {
     "name": "stdout",
     "output_type": "stream",
     "text": [
      "ratio of casual to member riders (total ride length, classic bike): 1.0582223330937508\n",
      "ratio of casual to member riders (total ride length, electric bike): 1.3031597481389723\n",
      "\n",
      "ratio of casual to member riders (avg ride length, classic bike): 1.712652391949484\n",
      "ratio of casual to member riders (avg ride length, electric bike): 1.5355630633627548\n"
     ]
    },
    {
     "data": {
      "image/png": "[encoded data removed]",
      "text/plain": [
       "<Figure size 576x432 with 2 Axes>"
      ]
     },
     "metadata": {
      "needs_background": "light"
     },
     "output_type": "display_data"
    }
   ],
   "source": [
    "print('ratio of casual to member riders (total ride length, classic bike):' , ride_len_by_mem_per_type2.loc['casual','sum'].classic_bike/ ride_len_by_mem_per_type2.loc['member','sum'].classic_bike) \n",
    "print('ratio of casual to member riders (total ride length, electric bike):' , ride_len_by_mem_per_type2.loc['casual','sum'].electric_bike/ ride_len_by_mem_per_type2.loc['member','sum'].electric_bike) \n",
    "print ('')\n",
    "print('ratio of casual to member riders (avg ride length, classic bike):' , ride_len_by_mem_per_type2.loc['casual','mean'].classic_bike/ ride_len_by_mem_per_type2.loc['member','mean'].classic_bike) \n",
    "print('ratio of casual to member riders (avg ride length, electric bike):' , ride_len_by_mem_per_type2.loc['casual','mean'].electric_bike/ ride_len_by_mem_per_type2.loc['member','mean'].electric_bike) \n",
    "\n",
    "\n",
    "\n",
    "\n",
    "fig, (ax1, ax2) = plt.subplots(1,2)\n",
    "\n",
    "\n",
    "ride_len_by_mem_per_type2['sum'].T.plot(kind='bar', ylabel='Total ride length (min)', figsize= (8,6), ax = ax1)\n",
    "\n",
    "ride_len_by_mem_per_type2['mean'].T.plot(kind='bar', ylabel='Mean ride length (min)', figsize= (8,6), ax = ax2)\n",
    "\n",
    "fig.tight_layout()"
   ]
  },
  {
   "cell_type": "markdown",
   "metadata": {},
   "source": [
    "#### As seen above, the difference of the total ride length between two groups of users is more pronounced when studying just electric bikes (30%) relative to classic bikes (6%). \n",
    "\n",
    "#### On the other hand, the difference of the average ride length between two groups of users is less pronounced when studying just electric bikes (53%) relative to classic bikes (72%).\n",
    "\n",
    "\n",
    "\n",
    "##\n",
    "\n",
    "## Group by Month"
   ]
  },
  {
   "cell_type": "code",
   "execution_count": 34,
   "metadata": {
    "execution": {
     "iopub.execute_input": "2022-09-11T22:30:24.163540Z",
     "iopub.status.busy": "2022-09-11T22:30:24.162769Z",
     "iopub.status.idle": "2022-09-11T22:30:25.834061Z",
     "shell.execute_reply": "2022-09-11T22:30:25.832804Z",
     "shell.execute_reply.started": "2022-09-11T22:30:24.163500Z"
    }
   },
   "outputs": [
    {
     "data": {
      "text/html": [
       "<div>\n",
       "<style scoped>\n",
       "    .dataframe tbody tr th:only-of-type {\n",
       "        vertical-align: middle;\n",
       "    }\n",
       "\n",
       "    .dataframe tbody tr th {\n",
       "        vertical-align: top;\n",
       "    }\n",
       "\n",
       "    .dataframe thead tr th {\n",
       "        text-align: left;\n",
       "    }\n",
       "\n",
       "    .dataframe thead tr:last-of-type th {\n",
       "        text-align: right;\n",
       "    }\n",
       "</style>\n",
       "<table border=\"1\" class=\"dataframe\">\n",
       "  <thead>\n",
       "    <tr>\n",
       "      <th></th>\n",
       "      <th colspan=\"10\" halign=\"left\">sum</th>\n",
       "      <th>...</th>\n",
       "      <th colspan=\"10\" halign=\"left\">mean</th>\n",
       "    </tr>\n",
       "    <tr>\n",
       "      <th>year</th>\n",
       "      <th colspan=\"10\" halign=\"left\">2021</th>\n",
       "      <th>...</th>\n",
       "      <th colspan=\"3\" halign=\"left\">2021</th>\n",
       "      <th colspan=\"7\" halign=\"left\">2022</th>\n",
       "    </tr>\n",
       "    <tr>\n",
       "      <th>month</th>\n",
       "      <th>January</th>\n",
       "      <th>February</th>\n",
       "      <th>March</th>\n",
       "      <th>April</th>\n",
       "      <th>May</th>\n",
       "      <th>June</th>\n",
       "      <th>July</th>\n",
       "      <th>August</th>\n",
       "      <th>September</th>\n",
       "      <th>October</th>\n",
       "      <th>...</th>\n",
       "      <th>October</th>\n",
       "      <th>November</th>\n",
       "      <th>December</th>\n",
       "      <th>January</th>\n",
       "      <th>February</th>\n",
       "      <th>March</th>\n",
       "      <th>April</th>\n",
       "      <th>May</th>\n",
       "      <th>June</th>\n",
       "      <th>July</th>\n",
       "    </tr>\n",
       "    <tr>\n",
       "      <th>member_casual</th>\n",
       "      <th></th>\n",
       "      <th></th>\n",
       "      <th></th>\n",
       "      <th></th>\n",
       "      <th></th>\n",
       "      <th></th>\n",
       "      <th></th>\n",
       "      <th></th>\n",
       "      <th></th>\n",
       "      <th></th>\n",
       "      <th></th>\n",
       "      <th></th>\n",
       "      <th></th>\n",
       "      <th></th>\n",
       "      <th></th>\n",
       "      <th></th>\n",
       "      <th></th>\n",
       "      <th></th>\n",
       "      <th></th>\n",
       "      <th></th>\n",
       "      <th></th>\n",
       "    </tr>\n",
       "  </thead>\n",
       "  <tbody>\n",
       "    <tr>\n",
       "      <th>casual</th>\n",
       "      <td>0</td>\n",
       "      <td>0</td>\n",
       "      <td>1547726</td>\n",
       "      <td>2468553</td>\n",
       "      <td>4817416</td>\n",
       "      <td>6757626</td>\n",
       "      <td>7867541</td>\n",
       "      <td>7398358</td>\n",
       "      <td>6390219</td>\n",
       "      <td>4131155</td>\n",
       "      <td>...</td>\n",
       "      <td>18.075972</td>\n",
       "      <td>15.099501</td>\n",
       "      <td>14.566186</td>\n",
       "      <td>13.463249</td>\n",
       "      <td>14.738526</td>\n",
       "      <td>19.221692</td>\n",
       "      <td>18.526569</td>\n",
       "      <td>20.297377</td>\n",
       "      <td>18.843394</td>\n",
       "      <td>18.820812</td>\n",
       "    </tr>\n",
       "    <tr>\n",
       "      <th>member</th>\n",
       "      <td>0</td>\n",
       "      <td>0</td>\n",
       "      <td>1854994</td>\n",
       "      <td>2666423</td>\n",
       "      <td>3651760</td>\n",
       "      <td>4760559</td>\n",
       "      <td>4946277</td>\n",
       "      <td>5029677</td>\n",
       "      <td>4882215</td>\n",
       "      <td>4191963</td>\n",
       "      <td>...</td>\n",
       "      <td>11.430340</td>\n",
       "      <td>10.235524</td>\n",
       "      <td>10.082338</td>\n",
       "      <td>9.903349</td>\n",
       "      <td>10.093575</td>\n",
       "      <td>10.850246</td>\n",
       "      <td>10.661155</td>\n",
       "      <td>12.468933</td>\n",
       "      <td>12.958881</td>\n",
       "      <td>12.887148</td>\n",
       "    </tr>\n",
       "  </tbody>\n",
       "</table>\n",
       "<p>2 rows × 41 columns</p>\n",
       "</div>"
      ],
      "text/plain": [
       "                  sum                                                        \\\n",
       "year             2021                                                         \n",
       "month         January February    March    April      May     June     July   \n",
       "member_casual                                                                 \n",
       "casual              0        0  1547726  2468553  4817416  6757626  7867541   \n",
       "member              0        0  1854994  2666423  3651760  4760559  4946277   \n",
       "\n",
       "                                           ...       mean             \\\n",
       "year                                       ...       2021              \n",
       "month           August September  October  ...    October   November   \n",
       "member_casual                              ...                         \n",
       "casual         7398358   6390219  4131155  ...  18.075972  15.099501   \n",
       "member         5029677   4882215  4191963  ...  11.430340  10.235524   \n",
       "\n",
       "                                                                      \\\n",
       "year                           2022                                    \n",
       "month           December    January   February      March      April   \n",
       "member_casual                                                          \n",
       "casual         14.566186  13.463249  14.738526  19.221692  18.526569   \n",
       "member         10.082338   9.903349  10.093575  10.850246  10.661155   \n",
       "\n",
       "                                                \n",
       "year                                            \n",
       "month                May       June       July  \n",
       "member_casual                                   \n",
       "casual         20.297377  18.843394  18.820812  \n",
       "member         12.468933  12.958881  12.887148  \n",
       "\n",
       "[2 rows x 41 columns]"
      ]
     },
     "execution_count": 34,
     "metadata": {},
     "output_type": "execute_result"
    }
   ],
   "source": [
    "ride_len_by_mem_per_month2 = pd.pivot_table(trips_2,\n",
    "              index = ['member_casual' ],\n",
    "              values = 'ride_length',\n",
    "              aggfunc = [np.sum, np.mean],\n",
    "              columns = ['year', 'month'],\n",
    "              margins = False,\n",
    "              margins_name = 'Total Count')\n",
    "ride_len_by_mem_per_month2"
   ]
  },
  {
   "cell_type": "code",
   "execution_count": 35,
   "metadata": {
    "execution": {
     "iopub.execute_input": "2022-09-11T22:42:05.576453Z",
     "iopub.status.busy": "2022-09-11T22:42:05.576058Z",
     "iopub.status.idle": "2022-09-11T22:42:05.798204Z",
     "shell.execute_reply": "2022-09-11T22:42:05.797335Z",
     "shell.execute_reply.started": "2022-09-11T22:42:05.576423Z"
    },
    "scrolled": false
   },
   "outputs": [
    {
     "data": {
      "image/png": "[encoded data removed]",
      "text/plain": [
       "<Figure size 720x360 with 1 Axes>"
      ]
     },
     "metadata": {
      "needs_background": "light"
     },
     "output_type": "display_data"
    },
    {
     "data": {
      "image/png": "[encoded data removed]",
      "text/plain": [
       "<Figure size 720x360 with 1 Axes>"
      ]
     },
     "metadata": {
      "needs_background": "light"
     },
     "output_type": "display_data"
    }
   ],
   "source": [
    "ax1 = ride_len_by_mem_per_month2['sum'].T.plot(kind='bar', ylabel='Total ride length (min)', figsize= (10,5))\n",
    "\n",
    "ax2 = ride_len_by_mem_per_month2['mean'].T.plot(kind='bar', ylabel='Mean ride length (min)', figsize= (10,5))\n"
   ]
  },
  {
   "cell_type": "markdown",
   "metadata": {},
   "source": [
    "#### It seems that four month of June, July, Agust, and September are the busiest time of the year for both users. As weather starts to cool, the total duration of the ride decreases for both users, and the least busy month coincide with the coldest month of the year, namely, January and Febuary.\n",
    "\n",
    "#### The seasonal variation is more obvious for the casual users. In other words, casual users have extremely high and low ride duration, respectively, in the peak and off-season.\n",
    "\n",
    "#### The total ride length for the casual users outpaces that of the members during the May, June, July, Agust which is the high season.\n",
    "\n",
    "#### From the comparison of the data for five month for which we have data for both 2021 and 2022, it seems that the total and average ride length of the casual users at 2022 have decreased with respect to 2021.\n",
    "\n",
    "#### Average ride length for the casual users is higher than the members year around. However, this difference is higher during the high season. \n",
    "\n",
    "\n",
    "\n",
    "\n",
    "##\n",
    "## Group by Day of week"
   ]
  },
  {
   "cell_type": "code",
   "execution_count": 36,
   "metadata": {
    "execution": {
     "iopub.execute_input": "2022-09-11T22:37:59.894141Z",
     "iopub.status.busy": "2022-09-11T22:37:59.893755Z",
     "iopub.status.idle": "2022-09-11T22:38:00.380700Z",
     "shell.execute_reply": "2022-09-11T22:38:00.379397Z",
     "shell.execute_reply.started": "2022-09-11T22:37:59.894110Z"
    },
    "scrolled": true
   },
   "outputs": [
    {
     "data": {
      "text/html": [
       "<div>\n",
       "<style scoped>\n",
       "    .dataframe tbody tr th:only-of-type {\n",
       "        vertical-align: middle;\n",
       "    }\n",
       "\n",
       "    .dataframe tbody tr th {\n",
       "        vertical-align: top;\n",
       "    }\n",
       "\n",
       "    .dataframe thead tr th {\n",
       "        text-align: left;\n",
       "    }\n",
       "\n",
       "    .dataframe thead tr:last-of-type th {\n",
       "        text-align: right;\n",
       "    }\n",
       "</style>\n",
       "<table border=\"1\" class=\"dataframe\">\n",
       "  <thead>\n",
       "    <tr>\n",
       "      <th></th>\n",
       "      <th colspan=\"7\" halign=\"left\">sum</th>\n",
       "      <th colspan=\"7\" halign=\"left\">mean</th>\n",
       "      <th colspan=\"7\" halign=\"left\">count</th>\n",
       "    </tr>\n",
       "    <tr>\n",
       "      <th>day_of_the_week</th>\n",
       "      <th>Monday</th>\n",
       "      <th>Tuesday</th>\n",
       "      <th>Wednesday</th>\n",
       "      <th>Thursday</th>\n",
       "      <th>Friday</th>\n",
       "      <th>Saturday</th>\n",
       "      <th>Sunday</th>\n",
       "      <th>Monday</th>\n",
       "      <th>Tuesday</th>\n",
       "      <th>Wednesday</th>\n",
       "      <th>...</th>\n",
       "      <th>Friday</th>\n",
       "      <th>Saturday</th>\n",
       "      <th>Sunday</th>\n",
       "      <th>Monday</th>\n",
       "      <th>Tuesday</th>\n",
       "      <th>Wednesday</th>\n",
       "      <th>Thursday</th>\n",
       "      <th>Friday</th>\n",
       "      <th>Saturday</th>\n",
       "      <th>Sunday</th>\n",
       "    </tr>\n",
       "    <tr>\n",
       "      <th>member_casual</th>\n",
       "      <th></th>\n",
       "      <th></th>\n",
       "      <th></th>\n",
       "      <th></th>\n",
       "      <th></th>\n",
       "      <th></th>\n",
       "      <th></th>\n",
       "      <th></th>\n",
       "      <th></th>\n",
       "      <th></th>\n",
       "      <th></th>\n",
       "      <th></th>\n",
       "      <th></th>\n",
       "      <th></th>\n",
       "      <th></th>\n",
       "      <th></th>\n",
       "      <th></th>\n",
       "      <th></th>\n",
       "      <th></th>\n",
       "      <th></th>\n",
       "      <th></th>\n",
       "    </tr>\n",
       "  </thead>\n",
       "  <tbody>\n",
       "    <tr>\n",
       "      <th>casual</th>\n",
       "      <td>7797950</td>\n",
       "      <td>6637880</td>\n",
       "      <td>6611434</td>\n",
       "      <td>7143504</td>\n",
       "      <td>8720701</td>\n",
       "      <td>15193275</td>\n",
       "      <td>13720257</td>\n",
       "      <td>20.394795</td>\n",
       "      <td>18.135590</td>\n",
       "      <td>17.708597</td>\n",
       "      <td>...</td>\n",
       "      <td>18.729988</td>\n",
       "      <td>21.877164</td>\n",
       "      <td>22.770964</td>\n",
       "      <td>382350</td>\n",
       "      <td>366014</td>\n",
       "      <td>373346</td>\n",
       "      <td>404344</td>\n",
       "      <td>465601</td>\n",
       "      <td>694481</td>\n",
       "      <td>602533</td>\n",
       "    </tr>\n",
       "    <tr>\n",
       "      <th>member</th>\n",
       "      <td>7696851</td>\n",
       "      <td>8256428</td>\n",
       "      <td>8340811</td>\n",
       "      <td>8225357</td>\n",
       "      <td>7859954</td>\n",
       "      <td>8867479</td>\n",
       "      <td>8051295</td>\n",
       "      <td>11.987296</td>\n",
       "      <td>11.591093</td>\n",
       "      <td>11.671003</td>\n",
       "      <td>...</td>\n",
       "      <td>12.002697</td>\n",
       "      <td>13.823879</td>\n",
       "      <td>14.008635</td>\n",
       "      <td>642084</td>\n",
       "      <td>712308</td>\n",
       "      <td>714661</td>\n",
       "      <td>702592</td>\n",
       "      <td>654849</td>\n",
       "      <td>641461</td>\n",
       "      <td>574738</td>\n",
       "    </tr>\n",
       "  </tbody>\n",
       "</table>\n",
       "<p>2 rows × 21 columns</p>\n",
       "</div>"
      ],
      "text/plain": [
       "                     sum                                                 \\\n",
       "day_of_the_week   Monday  Tuesday Wednesday Thursday   Friday  Saturday   \n",
       "member_casual                                                             \n",
       "casual           7797950  6637880   6611434  7143504  8720701  15193275   \n",
       "member           7696851  8256428   8340811  8225357  7859954   8867479   \n",
       "\n",
       "                                mean                        ...             \\\n",
       "day_of_the_week    Sunday     Monday    Tuesday  Wednesday  ...     Friday   \n",
       "member_casual                                               ...              \n",
       "casual           13720257  20.394795  18.135590  17.708597  ...  18.729988   \n",
       "member            8051295  11.987296  11.591093  11.671003  ...  12.002697   \n",
       "\n",
       "                                        count                             \\\n",
       "day_of_the_week   Saturday     Sunday  Monday Tuesday Wednesday Thursday   \n",
       "member_casual                                                              \n",
       "casual           21.877164  22.770964  382350  366014    373346   404344   \n",
       "member           13.823879  14.008635  642084  712308    714661   702592   \n",
       "\n",
       "                                          \n",
       "day_of_the_week  Friday Saturday  Sunday  \n",
       "member_casual                             \n",
       "casual           465601   694481  602533  \n",
       "member           654849   641461  574738  \n",
       "\n",
       "[2 rows x 21 columns]"
      ]
     },
     "execution_count": 36,
     "metadata": {},
     "output_type": "execute_result"
    }
   ],
   "source": [
    "ride_len_by_mem_per_day2 = pd.pivot_table(trips_2,\n",
    "              index = [ 'member_casual' ],\n",
    "              values = 'ride_length',\n",
    "              aggfunc = [np.sum, np.mean, 'count'],\n",
    "              columns = 'day_of_the_week',\n",
    "              margins = False,\n",
    "              margins_name = 'Total Count')\n",
    "ride_len_by_mem_per_day2"
   ]
  },
  {
   "cell_type": "code",
   "execution_count": 37,
   "metadata": {
    "execution": {
     "iopub.execute_input": "2022-09-11T22:42:05.576453Z",
     "iopub.status.busy": "2022-09-11T22:42:05.576058Z",
     "iopub.status.idle": "2022-09-11T22:42:05.798204Z",
     "shell.execute_reply": "2022-09-11T22:42:05.797335Z",
     "shell.execute_reply.started": "2022-09-11T22:42:05.576423Z"
    },
    "scrolled": false
   },
   "outputs": [
    {
     "data": {
      "image/png": "[encoded data removed]",
      "text/plain": [
       "<Figure size 720x216 with 1 Axes>"
      ]
     },
     "metadata": {
      "needs_background": "light"
     },
     "output_type": "display_data"
    },
    {
     "data": {
      "image/png": "[encoded data removed]",
      "text/plain": [
       "<Figure size 720x216 with 1 Axes>"
      ]
     },
     "metadata": {
      "needs_background": "light"
     },
     "output_type": "display_data"
    },
    {
     "data": {
      "image/png": "[encoded data removed]",
      "text/plain": [
       "<Figure size 720x216 with 1 Axes>"
      ]
     },
     "metadata": {
      "needs_background": "light"
     },
     "output_type": "display_data"
    }
   ],
   "source": [
    "ax1 = ride_len_by_mem_per_day2['count'].T.plot(kind='bar', ylabel='Tot number of rides', figsize= (10,3))\n",
    "\n",
    "ax2 = ride_len_by_mem_per_day2['sum'].T.plot(kind='bar', ylabel='Total ride length (min)', figsize= (10,3))\n",
    "\n",
    "ax3 = ride_len_by_mem_per_day2['mean'].T.plot(kind='bar', ylabel='Mean ride length (min)', figsize= (10,3))\n",
    "\n"
   ]
  },
  {
   "cell_type": "markdown",
   "metadata": {},
   "source": [
    "#### Total number of rides and total duration of the rides for member users are more uniform within the days of the week in comparison to the casual users which tend to use the service mostly on Friday nights and weekends.\n",
    "\n",
    "#### Total duration of the rides per casual users makes up more than 60% of the total rides' duration in the weekend.\n",
    "\n",
    "#### Generally, average ride length for the casual users is higher than members. The average ride length of casual riders on Saturday, Sunday, and Monday is higher than rest of the week days. \n",
    "\n",
    "\n",
    "\n",
    "##\n",
    "## Group by day of the week and ride type"
   ]
  },
  {
   "cell_type": "code",
   "execution_count": 38,
   "metadata": {
    "scrolled": true
   },
   "outputs": [
    {
     "data": {
      "text/html": [
       "<div>\n",
       "<style scoped>\n",
       "    .dataframe tbody tr th:only-of-type {\n",
       "        vertical-align: middle;\n",
       "    }\n",
       "\n",
       "    .dataframe tbody tr th {\n",
       "        vertical-align: top;\n",
       "    }\n",
       "\n",
       "    .dataframe thead tr th {\n",
       "        text-align: left;\n",
       "    }\n",
       "\n",
       "    .dataframe thead tr:last-of-type th {\n",
       "        text-align: right;\n",
       "    }\n",
       "</style>\n",
       "<table border=\"1\" class=\"dataframe\">\n",
       "  <thead>\n",
       "    <tr>\n",
       "      <th></th>\n",
       "      <th></th>\n",
       "      <th colspan=\"7\" halign=\"left\">sum</th>\n",
       "      <th colspan=\"7\" halign=\"left\">mean</th>\n",
       "      <th colspan=\"7\" halign=\"left\">count</th>\n",
       "    </tr>\n",
       "    <tr>\n",
       "      <th></th>\n",
       "      <th>day_of_the_week</th>\n",
       "      <th>Monday</th>\n",
       "      <th>Tuesday</th>\n",
       "      <th>Wednesday</th>\n",
       "      <th>Thursday</th>\n",
       "      <th>Friday</th>\n",
       "      <th>Saturday</th>\n",
       "      <th>Sunday</th>\n",
       "      <th>Monday</th>\n",
       "      <th>Tuesday</th>\n",
       "      <th>Wednesday</th>\n",
       "      <th>...</th>\n",
       "      <th>Friday</th>\n",
       "      <th>Saturday</th>\n",
       "      <th>Sunday</th>\n",
       "      <th>Monday</th>\n",
       "      <th>Tuesday</th>\n",
       "      <th>Wednesday</th>\n",
       "      <th>Thursday</th>\n",
       "      <th>Friday</th>\n",
       "      <th>Saturday</th>\n",
       "      <th>Sunday</th>\n",
       "    </tr>\n",
       "    <tr>\n",
       "      <th>member_casual</th>\n",
       "      <th>rideable_type</th>\n",
       "      <th></th>\n",
       "      <th></th>\n",
       "      <th></th>\n",
       "      <th></th>\n",
       "      <th></th>\n",
       "      <th></th>\n",
       "      <th></th>\n",
       "      <th></th>\n",
       "      <th></th>\n",
       "      <th></th>\n",
       "      <th></th>\n",
       "      <th></th>\n",
       "      <th></th>\n",
       "      <th></th>\n",
       "      <th></th>\n",
       "      <th></th>\n",
       "      <th></th>\n",
       "      <th></th>\n",
       "      <th></th>\n",
       "      <th></th>\n",
       "      <th></th>\n",
       "    </tr>\n",
       "  </thead>\n",
       "  <tbody>\n",
       "    <tr>\n",
       "      <th rowspan=\"2\" valign=\"top\">casual</th>\n",
       "      <th>classic_bike</th>\n",
       "      <td>4378476</td>\n",
       "      <td>3549491</td>\n",
       "      <td>3529566</td>\n",
       "      <td>3842381</td>\n",
       "      <td>4842707</td>\n",
       "      <td>9543985</td>\n",
       "      <td>8521414</td>\n",
       "      <td>22.522909</td>\n",
       "      <td>19.989700</td>\n",
       "      <td>19.395884</td>\n",
       "      <td>...</td>\n",
       "      <td>20.394381</td>\n",
       "      <td>23.526533</td>\n",
       "      <td>24.502312</td>\n",
       "      <td>194401</td>\n",
       "      <td>177566</td>\n",
       "      <td>181975</td>\n",
       "      <td>199199</td>\n",
       "      <td>237453</td>\n",
       "      <td>405669</td>\n",
       "      <td>347780</td>\n",
       "    </tr>\n",
       "    <tr>\n",
       "      <th>electric_bike</th>\n",
       "      <td>3419474</td>\n",
       "      <td>3088389</td>\n",
       "      <td>3081868</td>\n",
       "      <td>3301123</td>\n",
       "      <td>3877994</td>\n",
       "      <td>5649290</td>\n",
       "      <td>5198843</td>\n",
       "      <td>18.193627</td>\n",
       "      <td>16.388548</td>\n",
       "      <td>16.104154</td>\n",
       "      <td>...</td>\n",
       "      <td>16.997712</td>\n",
       "      <td>19.560441</td>\n",
       "      <td>20.407387</td>\n",
       "      <td>187949</td>\n",
       "      <td>188448</td>\n",
       "      <td>191371</td>\n",
       "      <td>205145</td>\n",
       "      <td>228148</td>\n",
       "      <td>288812</td>\n",
       "      <td>254753</td>\n",
       "    </tr>\n",
       "    <tr>\n",
       "      <th rowspan=\"2\" valign=\"top\">member</th>\n",
       "      <th>classic_bike</th>\n",
       "      <td>4888253</td>\n",
       "      <td>5188611</td>\n",
       "      <td>5229612</td>\n",
       "      <td>5070811</td>\n",
       "      <td>4810018</td>\n",
       "      <td>5685221</td>\n",
       "      <td>5233327</td>\n",
       "      <td>12.441532</td>\n",
       "      <td>12.020273</td>\n",
       "      <td>12.065922</td>\n",
       "      <td>...</td>\n",
       "      <td>12.384888</td>\n",
       "      <td>14.297551</td>\n",
       "      <td>14.554606</td>\n",
       "      <td>392898</td>\n",
       "      <td>431655</td>\n",
       "      <td>433420</td>\n",
       "      <td>419049</td>\n",
       "      <td>388378</td>\n",
       "      <td>397636</td>\n",
       "      <td>359565</td>\n",
       "    </tr>\n",
       "    <tr>\n",
       "      <th>electric_bike</th>\n",
       "      <td>2808598</td>\n",
       "      <td>3067817</td>\n",
       "      <td>3111199</td>\n",
       "      <td>3154546</td>\n",
       "      <td>3049936</td>\n",
       "      <td>3182258</td>\n",
       "      <td>2817968</td>\n",
       "      <td>11.271091</td>\n",
       "      <td>10.930997</td>\n",
       "      <td>11.062395</td>\n",
       "      <td>...</td>\n",
       "      <td>11.445658</td>\n",
       "      <td>13.051402</td>\n",
       "      <td>13.096290</td>\n",
       "      <td>249186</td>\n",
       "      <td>280653</td>\n",
       "      <td>281241</td>\n",
       "      <td>283543</td>\n",
       "      <td>266471</td>\n",
       "      <td>243825</td>\n",
       "      <td>215173</td>\n",
       "    </tr>\n",
       "  </tbody>\n",
       "</table>\n",
       "<p>4 rows × 21 columns</p>\n",
       "</div>"
      ],
      "text/plain": [
       "                                 sum                                       \\\n",
       "day_of_the_week               Monday  Tuesday Wednesday Thursday   Friday   \n",
       "member_casual rideable_type                                                 \n",
       "casual        classic_bike   4378476  3549491   3529566  3842381  4842707   \n",
       "              electric_bike  3419474  3088389   3081868  3301123  3877994   \n",
       "member        classic_bike   4888253  5188611   5229612  5070811  4810018   \n",
       "              electric_bike  2808598  3067817   3111199  3154546  3049936   \n",
       "\n",
       "                                                    mean             \\\n",
       "day_of_the_week             Saturday   Sunday     Monday    Tuesday   \n",
       "member_casual rideable_type                                           \n",
       "casual        classic_bike   9543985  8521414  22.522909  19.989700   \n",
       "              electric_bike  5649290  5198843  18.193627  16.388548   \n",
       "member        classic_bike   5685221  5233327  12.441532  12.020273   \n",
       "              electric_bike  3182258  2817968  11.271091  10.930997   \n",
       "\n",
       "                                        ...                                   \\\n",
       "day_of_the_week              Wednesday  ...     Friday   Saturday     Sunday   \n",
       "member_casual rideable_type             ...                                    \n",
       "casual        classic_bike   19.395884  ...  20.394381  23.526533  24.502312   \n",
       "              electric_bike  16.104154  ...  16.997712  19.560441  20.407387   \n",
       "member        classic_bike   12.065922  ...  12.384888  14.297551  14.554606   \n",
       "              electric_bike  11.062395  ...  11.445658  13.051402  13.096290   \n",
       "\n",
       "                              count                                     \\\n",
       "day_of_the_week              Monday Tuesday Wednesday Thursday  Friday   \n",
       "member_casual rideable_type                                              \n",
       "casual        classic_bike   194401  177566    181975   199199  237453   \n",
       "              electric_bike  187949  188448    191371   205145  228148   \n",
       "member        classic_bike   392898  431655    433420   419049  388378   \n",
       "              electric_bike  249186  280653    281241   283543  266471   \n",
       "\n",
       "                                              \n",
       "day_of_the_week             Saturday  Sunday  \n",
       "member_casual rideable_type                   \n",
       "casual        classic_bike    405669  347780  \n",
       "              electric_bike   288812  254753  \n",
       "member        classic_bike    397636  359565  \n",
       "              electric_bike   243825  215173  \n",
       "\n",
       "[4 rows x 21 columns]"
      ]
     },
     "execution_count": 38,
     "metadata": {},
     "output_type": "execute_result"
    }
   ],
   "source": [
    "ride_len_by_mem_type_per_day2 = pd.pivot_table(trips_2,\n",
    "              index = [ 'member_casual', 'rideable_type' ],\n",
    "              values = 'ride_length',\n",
    "              aggfunc = [np.sum, np.mean, 'count'],\n",
    "              columns = 'day_of_the_week',\n",
    "              margins = False,\n",
    "              margins_name = 'Total Count')\n",
    "ride_len_by_mem_type_per_day2"
   ]
  },
  {
   "cell_type": "code",
   "execution_count": 39,
   "metadata": {
    "scrolled": false
   },
   "outputs": [
    {
     "data": {
      "image/png": "[encoded data removed]",
      "text/plain": [
       "<Figure size 648x864 with 3 Axes>"
      ]
     },
     "metadata": {
      "needs_background": "light"
     },
     "output_type": "display_data"
    }
   ],
   "source": [
    "fig, (ax1, ax2, ax3) = plt.subplots(3,1)\n",
    "\n",
    "ride_len_by_mem_type_per_day2['count'].T.plot(kind='bar', ylabel='Total number of rides', figsize= (9,12), ax = ax1)\n",
    "ride_len_by_mem_type_per_day2['sum'].T.plot(kind='bar', ylabel='Total ride length (min)', figsize= (9,12), ax = ax2)\n",
    "ride_len_by_mem_type_per_day2['mean'].T.plot(kind='bar', ylabel='Average ride length (min)', figsize= (9,12), ax = ax3)\n",
    "fig.tight_layout()"
   ]
  },
  {
   "cell_type": "markdown",
   "metadata": {},
   "source": [
    "#### The increase of the ride demand on weekends is mostly due to casual users riding classic bikes. Accordingly, total ride length for the classic bikes puts extreme pressure on the availability of the classic bikes on weekends. This stems from both large number of ride demand and higher average of ride time for this category, namely, casual users riding classic bikes on weekends.\n",
    "\n",
    "#### While total ride length of the electric bikes is slightly less intensified on weekends in comparison to classic bikes, their total ride length by casual users is significantly larger than members (almost twice). \n",
    "\n",
    "#### Therefore, with the current pattern the utility of both bikes is maximized on weekends.\n",
    "\n",
    "#### Overall, the utility of electric bike is slightly better distributed between the days of the week in comparison to the classic bikes.\n",
    "\n",
    "\n",
    "##\n",
    "## Group by hours of a day"
   ]
  },
  {
   "cell_type": "code",
   "execution_count": 40,
   "metadata": {
    "scrolled": true
   },
   "outputs": [
    {
     "data": {
      "text/html": [
       "<div>\n",
       "<style scoped>\n",
       "    .dataframe tbody tr th:only-of-type {\n",
       "        vertical-align: middle;\n",
       "    }\n",
       "\n",
       "    .dataframe tbody tr th {\n",
       "        vertical-align: top;\n",
       "    }\n",
       "\n",
       "    .dataframe thead tr th {\n",
       "        text-align: left;\n",
       "    }\n",
       "\n",
       "    .dataframe thead tr:last-of-type th {\n",
       "        text-align: right;\n",
       "    }\n",
       "</style>\n",
       "<table border=\"1\" class=\"dataframe\">\n",
       "  <thead>\n",
       "    <tr>\n",
       "      <th></th>\n",
       "      <th colspan=\"10\" halign=\"left\">sum</th>\n",
       "      <th>...</th>\n",
       "      <th colspan=\"10\" halign=\"left\">count</th>\n",
       "    </tr>\n",
       "    <tr>\n",
       "      <th>hour</th>\n",
       "      <th>00</th>\n",
       "      <th>01</th>\n",
       "      <th>02</th>\n",
       "      <th>03</th>\n",
       "      <th>04</th>\n",
       "      <th>05</th>\n",
       "      <th>06</th>\n",
       "      <th>07</th>\n",
       "      <th>08</th>\n",
       "      <th>09</th>\n",
       "      <th>...</th>\n",
       "      <th>14</th>\n",
       "      <th>15</th>\n",
       "      <th>16</th>\n",
       "      <th>17</th>\n",
       "      <th>18</th>\n",
       "      <th>19</th>\n",
       "      <th>20</th>\n",
       "      <th>21</th>\n",
       "      <th>22</th>\n",
       "      <th>23</th>\n",
       "    </tr>\n",
       "    <tr>\n",
       "      <th>member_casual</th>\n",
       "      <th></th>\n",
       "      <th></th>\n",
       "      <th></th>\n",
       "      <th></th>\n",
       "      <th></th>\n",
       "      <th></th>\n",
       "      <th></th>\n",
       "      <th></th>\n",
       "      <th></th>\n",
       "      <th></th>\n",
       "      <th></th>\n",
       "      <th></th>\n",
       "      <th></th>\n",
       "      <th></th>\n",
       "      <th></th>\n",
       "      <th></th>\n",
       "      <th></th>\n",
       "      <th></th>\n",
       "      <th></th>\n",
       "      <th></th>\n",
       "      <th></th>\n",
       "    </tr>\n",
       "  </thead>\n",
       "  <tbody>\n",
       "    <tr>\n",
       "      <th>casual</th>\n",
       "      <td>1196998</td>\n",
       "      <td>829509</td>\n",
       "      <td>536696</td>\n",
       "      <td>295916</td>\n",
       "      <td>197036</td>\n",
       "      <td>246468</td>\n",
       "      <td>498232</td>\n",
       "      <td>931554</td>\n",
       "      <td>1392859</td>\n",
       "      <td>1886442</td>\n",
       "      <td>...</td>\n",
       "      <td>224185</td>\n",
       "      <td>242400</td>\n",
       "      <td>270029</td>\n",
       "      <td>314311</td>\n",
       "      <td>285923</td>\n",
       "      <td>222167</td>\n",
       "      <td>163767</td>\n",
       "      <td>138382</td>\n",
       "      <td>127008</td>\n",
       "      <td>96189</td>\n",
       "    </tr>\n",
       "    <tr>\n",
       "      <th>member</th>\n",
       "      <td>580284</td>\n",
       "      <td>375661</td>\n",
       "      <td>218030</td>\n",
       "      <td>129288</td>\n",
       "      <td>142388</td>\n",
       "      <td>474140</td>\n",
       "      <td>1364991</td>\n",
       "      <td>2621433</td>\n",
       "      <td>2975427</td>\n",
       "      <td>2246887</td>\n",
       "      <td>...</td>\n",
       "      <td>259593</td>\n",
       "      <td>301630</td>\n",
       "      <td>394206</td>\n",
       "      <td>486208</td>\n",
       "      <td>407798</td>\n",
       "      <td>294730</td>\n",
       "      <td>204081</td>\n",
       "      <td>153528</td>\n",
       "      <td>117229</td>\n",
       "      <td>79427</td>\n",
       "    </tr>\n",
       "  </tbody>\n",
       "</table>\n",
       "<p>2 rows × 72 columns</p>\n",
       "</div>"
      ],
      "text/plain": [
       "                   sum                                                   \\\n",
       "hour                00      01      02      03      04      05       06   \n",
       "member_casual                                                             \n",
       "casual         1196998  829509  536696  295916  197036  246468   498232   \n",
       "member          580284  375661  218030  129288  142388  474140  1364991   \n",
       "\n",
       "                                          ...   count                          \\\n",
       "hour                07       08       09  ...      14      15      16      17   \n",
       "member_casual                             ...                                   \n",
       "casual          931554  1392859  1886442  ...  224185  242400  270029  314311   \n",
       "member         2621433  2975427  2246887  ...  259593  301630  394206  486208   \n",
       "\n",
       "                                                              \n",
       "hour               18      19      20      21      22     23  \n",
       "member_casual                                                 \n",
       "casual         285923  222167  163767  138382  127008  96189  \n",
       "member         407798  294730  204081  153528  117229  79427  \n",
       "\n",
       "[2 rows x 72 columns]"
      ]
     },
     "execution_count": 40,
     "metadata": {},
     "output_type": "execute_result"
    }
   ],
   "source": [
    "ride_len_by_mem_per_hour2 = pd.pivot_table(trips_2,\n",
    "              index = [ 'member_casual' ],\n",
    "              values = 'ride_length',\n",
    "              aggfunc = [np.sum, np.mean, 'count'],\n",
    "              columns = ['hour'],\n",
    "              margins = False,\n",
    "              margins_name = 'Total Count')\n",
    "ride_len_by_mem_per_hour2"
   ]
  },
  {
   "cell_type": "code",
   "execution_count": 41,
   "metadata": {},
   "outputs": [
    {
     "data": {
      "image/png": "[encoded data removed]",
      "text/plain": [
       "<Figure size 648x576 with 3 Axes>"
      ]
     },
     "metadata": {
      "needs_background": "light"
     },
     "output_type": "display_data"
    }
   ],
   "source": [
    "fig, (ax1, ax2, ax3) = plt.subplots(3,1)\n",
    "\n",
    "ride_len_by_mem_per_hour2['count'].T.plot(kind='bar', ylabel='Total number of ride ', figsize= (9,8), ax = ax1)\n",
    "ride_len_by_mem_per_hour2['sum'].T.plot(kind='bar', ylabel='Total ride length (min)', figsize= (9,8), ax = ax2)\n",
    "ride_len_by_mem_per_hour2['mean'].T.plot(kind='bar', ylabel='Average ride length (min)', figsize= (9,8), ax = ax3)\n",
    "fig.tight_layout()"
   ]
  },
  {
   "cell_type": "markdown",
   "metadata": {},
   "source": [
    "#### Two peaks are seen for the members during the commute hours in the both total number and total ride length and a third weak one during the lunch time which is more obvious in the total ride numbers graph than the total ride length graph.\n",
    "\n",
    "#### On the other hand, the peak of the number of rides and total ride length for asual users have a single peak which coincide with the second peak of the members (commute back to home).\n",
    "\n",
    "#### Since there is a difference in the pattern of these two costumers, and we already know the distribution of these two groups between the days of the week are different, it would be beneficial to look at the hourly distribution of the ride data both for weekdays and weekends separately."
   ]
  },
  {
   "cell_type": "markdown",
   "metadata": {},
   "source": [
    "# Hourly distribution distinctly on weekends and weekdays\n",
    "## weekdays"
   ]
  },
  {
   "cell_type": "code",
   "execution_count": 42,
   "metadata": {},
   "outputs": [
    {
     "name": "stdout",
     "output_type": "stream",
     "text": [
      "<class 'pandas.core.frame.DataFrame'>\n",
      "Int64Index: 5418149 entries, 0 to 531631\n",
      "Data columns (total 10 columns):\n",
      " #   Column           Dtype         \n",
      "---  ------           -----         \n",
      " 0   ride_id          object        \n",
      " 1   rideable_type    category      \n",
      " 2   member_casual    category      \n",
      " 3   start_time       datetime64[ns]\n",
      " 4   end_time         datetime64[ns]\n",
      " 5   ride_length      int32         \n",
      " 6   hour             category      \n",
      " 7   day_of_the_week  category      \n",
      " 8   month            category      \n",
      " 9   year             category      \n",
      "dtypes: category(6), datetime64[ns](2), int32(1), object(1)\n",
      "memory usage: 217.0+ MB\n"
     ]
    },
    {
     "data": {
      "text/html": [
       "<div>\n",
       "<style scoped>\n",
       "    .dataframe tbody tr th:only-of-type {\n",
       "        vertical-align: middle;\n",
       "    }\n",
       "\n",
       "    .dataframe tbody tr th {\n",
       "        vertical-align: top;\n",
       "    }\n",
       "\n",
       "    .dataframe thead tr th {\n",
       "        text-align: left;\n",
       "    }\n",
       "\n",
       "    .dataframe thead tr:last-of-type th {\n",
       "        text-align: right;\n",
       "    }\n",
       "</style>\n",
       "<table border=\"1\" class=\"dataframe\">\n",
       "  <thead>\n",
       "    <tr>\n",
       "      <th></th>\n",
       "      <th colspan=\"10\" halign=\"left\">sum</th>\n",
       "      <th>...</th>\n",
       "      <th colspan=\"10\" halign=\"left\">count</th>\n",
       "    </tr>\n",
       "    <tr>\n",
       "      <th>hour</th>\n",
       "      <th>00</th>\n",
       "      <th>01</th>\n",
       "      <th>02</th>\n",
       "      <th>03</th>\n",
       "      <th>04</th>\n",
       "      <th>05</th>\n",
       "      <th>06</th>\n",
       "      <th>07</th>\n",
       "      <th>08</th>\n",
       "      <th>09</th>\n",
       "      <th>...</th>\n",
       "      <th>14</th>\n",
       "      <th>15</th>\n",
       "      <th>16</th>\n",
       "      <th>17</th>\n",
       "      <th>18</th>\n",
       "      <th>19</th>\n",
       "      <th>20</th>\n",
       "      <th>21</th>\n",
       "      <th>22</th>\n",
       "      <th>23</th>\n",
       "    </tr>\n",
       "    <tr>\n",
       "      <th>member_casual</th>\n",
       "      <th></th>\n",
       "      <th></th>\n",
       "      <th></th>\n",
       "      <th></th>\n",
       "      <th></th>\n",
       "      <th></th>\n",
       "      <th></th>\n",
       "      <th></th>\n",
       "      <th></th>\n",
       "      <th></th>\n",
       "      <th></th>\n",
       "      <th></th>\n",
       "      <th></th>\n",
       "      <th></th>\n",
       "      <th></th>\n",
       "      <th></th>\n",
       "      <th></th>\n",
       "      <th></th>\n",
       "      <th></th>\n",
       "      <th></th>\n",
       "      <th></th>\n",
       "    </tr>\n",
       "  </thead>\n",
       "  <tbody>\n",
       "    <tr>\n",
       "      <th>casual</th>\n",
       "      <td>499777</td>\n",
       "      <td>298333</td>\n",
       "      <td>179199</td>\n",
       "      <td>110170</td>\n",
       "      <td>97588</td>\n",
       "      <td>157881</td>\n",
       "      <td>375563</td>\n",
       "      <td>699874</td>\n",
       "      <td>931369</td>\n",
       "      <td>996352</td>\n",
       "      <td>...</td>\n",
       "      <td>116815</td>\n",
       "      <td>133407</td>\n",
       "      <td>165426</td>\n",
       "      <td>217890</td>\n",
       "      <td>201660</td>\n",
       "      <td>154354</td>\n",
       "      <td>112727</td>\n",
       "      <td>94040</td>\n",
       "      <td>83479</td>\n",
       "      <td>59150</td>\n",
       "    </tr>\n",
       "    <tr>\n",
       "      <th>member</th>\n",
       "      <td>256629</td>\n",
       "      <td>134522</td>\n",
       "      <td>74984</td>\n",
       "      <td>50069</td>\n",
       "      <td>90815</td>\n",
       "      <td>400147</td>\n",
       "      <td>1197235</td>\n",
       "      <td>2325251</td>\n",
       "      <td>2503715</td>\n",
       "      <td>1509700</td>\n",
       "      <td>...</td>\n",
       "      <td>165645</td>\n",
       "      <td>207397</td>\n",
       "      <td>301098</td>\n",
       "      <td>397268</td>\n",
       "      <td>327243</td>\n",
       "      <td>229729</td>\n",
       "      <td>156633</td>\n",
       "      <td>115584</td>\n",
       "      <td>84882</td>\n",
       "      <td>53946</td>\n",
       "    </tr>\n",
       "  </tbody>\n",
       "</table>\n",
       "<p>2 rows × 72 columns</p>\n",
       "</div>"
      ],
      "text/plain": [
       "                  sum                                                  \\\n",
       "hour               00      01      02      03     04      05       06   \n",
       "member_casual                                                           \n",
       "casual         499777  298333  179199  110170  97588  157881   375563   \n",
       "member         256629  134522   74984   50069  90815  400147  1197235   \n",
       "\n",
       "                                          ...   count                          \\\n",
       "hour                07       08       09  ...      14      15      16      17   \n",
       "member_casual                             ...                                   \n",
       "casual          699874   931369   996352  ...  116815  133407  165426  217890   \n",
       "member         2325251  2503715  1509700  ...  165645  207397  301098  397268   \n",
       "\n",
       "                                                             \n",
       "hour               18      19      20      21     22     23  \n",
       "member_casual                                                \n",
       "casual         201660  154354  112727   94040  83479  59150  \n",
       "member         327243  229729  156633  115584  84882  53946  \n",
       "\n",
       "[2 rows x 72 columns]"
      ]
     },
     "execution_count": 42,
     "metadata": {},
     "output_type": "execute_result"
    }
   ],
   "source": [
    "trips_wd = trips_2[(trips_2['day_of_the_week'] != 'Saturday') & (trips_2['day_of_the_week'] != 'Sunday')  ]\n",
    "trips_wd.info()\n",
    "\n",
    "ride_len_by_mem_per_hour_wd = pd.pivot_table(trips_wd,\n",
    "              index = [ 'member_casual' ],\n",
    "              values = 'ride_length',\n",
    "              aggfunc = [np.sum, np.mean, 'count'],\n",
    "              columns = ['hour'],\n",
    "              margins = False,\n",
    "              margins_name = 'Total Count')\n",
    "ride_len_by_mem_per_hour_wd"
   ]
  },
  {
   "cell_type": "markdown",
   "metadata": {},
   "source": [
    "## Weekdays"
   ]
  },
  {
   "cell_type": "code",
   "execution_count": 43,
   "metadata": {
    "scrolled": false
   },
   "outputs": [
    {
     "data": {
      "image/png": "[encoded data removed]",
      "text/plain": [
       "<Figure size 648x576 with 3 Axes>"
      ]
     },
     "metadata": {
      "needs_background": "light"
     },
     "output_type": "display_data"
    }
   ],
   "source": [
    "fig, (ax1, ax2, ax3) = plt.subplots(3,1)\n",
    "\n",
    "ride_len_by_mem_per_hour_wd['count'].T.plot(kind='bar', ylabel='Total number of ride ', figsize= (9,8), ax = ax1)\n",
    "ride_len_by_mem_per_hour_wd['sum'].T.plot(kind='bar', ylabel='Total ride length (min)', figsize= (9,8), ax = ax2)\n",
    "ride_len_by_mem_per_hour_wd['mean'].T.plot(kind='bar', ylabel='Average ride length (min)', figsize= (9,8), ax = ax3)\n",
    "fig.tight_layout()"
   ]
  },
  {
   "cell_type": "markdown",
   "metadata": {},
   "source": [
    "#### As seen from the average ride length, it seems some of the casual users have ride the bikes for short trips in the early morning which can be interpreted as they ride bikes for commuting and not for recreation.\n",
    "\n",
    "#### At most of the hours of a weekday except from 23:00 to 3:00 in the morning, total number of ride is dominated by members. Moreover, total ride duration is peaked at 17:00 which is while a peak for both users, it is dominated by members."
   ]
  },
  {
   "cell_type": "markdown",
   "metadata": {},
   "source": [
    "## Weekends"
   ]
  },
  {
   "cell_type": "code",
   "execution_count": 44,
   "metadata": {},
   "outputs": [
    {
     "name": "stdout",
     "output_type": "stream",
     "text": [
      "<class 'pandas.core.frame.DataFrame'>\n",
      "Int64Index: 2513213 entries, 16 to 531629\n",
      "Data columns (total 10 columns):\n",
      " #   Column           Dtype         \n",
      "---  ------           -----         \n",
      " 0   ride_id          object        \n",
      " 1   rideable_type    category      \n",
      " 2   member_casual    category      \n",
      " 3   start_time       datetime64[ns]\n",
      " 4   end_time         datetime64[ns]\n",
      " 5   ride_length      int32         \n",
      " 6   hour             category      \n",
      " 7   day_of_the_week  category      \n",
      " 8   month            category      \n",
      " 9   year             category      \n",
      "dtypes: category(6), datetime64[ns](2), int32(1), object(1)\n",
      "memory usage: 100.7+ MB\n"
     ]
    },
    {
     "data": {
      "text/html": [
       "<div>\n",
       "<style scoped>\n",
       "    .dataframe tbody tr th:only-of-type {\n",
       "        vertical-align: middle;\n",
       "    }\n",
       "\n",
       "    .dataframe tbody tr th {\n",
       "        vertical-align: top;\n",
       "    }\n",
       "\n",
       "    .dataframe thead tr th {\n",
       "        text-align: left;\n",
       "    }\n",
       "\n",
       "    .dataframe thead tr:last-of-type th {\n",
       "        text-align: right;\n",
       "    }\n",
       "</style>\n",
       "<table border=\"1\" class=\"dataframe\">\n",
       "  <thead>\n",
       "    <tr>\n",
       "      <th></th>\n",
       "      <th colspan=\"10\" halign=\"left\">sum</th>\n",
       "      <th>...</th>\n",
       "      <th colspan=\"10\" halign=\"left\">count</th>\n",
       "    </tr>\n",
       "    <tr>\n",
       "      <th>hour</th>\n",
       "      <th>00</th>\n",
       "      <th>01</th>\n",
       "      <th>02</th>\n",
       "      <th>03</th>\n",
       "      <th>04</th>\n",
       "      <th>05</th>\n",
       "      <th>06</th>\n",
       "      <th>07</th>\n",
       "      <th>08</th>\n",
       "      <th>09</th>\n",
       "      <th>...</th>\n",
       "      <th>14</th>\n",
       "      <th>15</th>\n",
       "      <th>16</th>\n",
       "      <th>17</th>\n",
       "      <th>18</th>\n",
       "      <th>19</th>\n",
       "      <th>20</th>\n",
       "      <th>21</th>\n",
       "      <th>22</th>\n",
       "      <th>23</th>\n",
       "    </tr>\n",
       "    <tr>\n",
       "      <th>member_casual</th>\n",
       "      <th></th>\n",
       "      <th></th>\n",
       "      <th></th>\n",
       "      <th></th>\n",
       "      <th></th>\n",
       "      <th></th>\n",
       "      <th></th>\n",
       "      <th></th>\n",
       "      <th></th>\n",
       "      <th></th>\n",
       "      <th></th>\n",
       "      <th></th>\n",
       "      <th></th>\n",
       "      <th></th>\n",
       "      <th></th>\n",
       "      <th></th>\n",
       "      <th></th>\n",
       "      <th></th>\n",
       "      <th></th>\n",
       "      <th></th>\n",
       "      <th></th>\n",
       "    </tr>\n",
       "  </thead>\n",
       "  <tbody>\n",
       "    <tr>\n",
       "      <th>casual</th>\n",
       "      <td>697221</td>\n",
       "      <td>531176</td>\n",
       "      <td>357497</td>\n",
       "      <td>185746</td>\n",
       "      <td>99448</td>\n",
       "      <td>88587</td>\n",
       "      <td>122669</td>\n",
       "      <td>231680</td>\n",
       "      <td>461490</td>\n",
       "      <td>890090</td>\n",
       "      <td>...</td>\n",
       "      <td>107370</td>\n",
       "      <td>108993</td>\n",
       "      <td>104603</td>\n",
       "      <td>96421</td>\n",
       "      <td>84263</td>\n",
       "      <td>67813</td>\n",
       "      <td>51040</td>\n",
       "      <td>44342</td>\n",
       "      <td>43529</td>\n",
       "      <td>37039</td>\n",
       "    </tr>\n",
       "    <tr>\n",
       "      <th>member</th>\n",
       "      <td>323655</td>\n",
       "      <td>241139</td>\n",
       "      <td>143046</td>\n",
       "      <td>79219</td>\n",
       "      <td>51573</td>\n",
       "      <td>73993</td>\n",
       "      <td>167756</td>\n",
       "      <td>296182</td>\n",
       "      <td>471712</td>\n",
       "      <td>737187</td>\n",
       "      <td>...</td>\n",
       "      <td>93948</td>\n",
       "      <td>94233</td>\n",
       "      <td>93108</td>\n",
       "      <td>88940</td>\n",
       "      <td>80555</td>\n",
       "      <td>65001</td>\n",
       "      <td>47448</td>\n",
       "      <td>37944</td>\n",
       "      <td>32347</td>\n",
       "      <td>25481</td>\n",
       "    </tr>\n",
       "  </tbody>\n",
       "</table>\n",
       "<p>2 rows × 72 columns</p>\n",
       "</div>"
      ],
      "text/plain": [
       "                  sum                                                        \\\n",
       "hour               00      01      02      03     04     05      06      07   \n",
       "member_casual                                                                 \n",
       "casual         697221  531176  357497  185746  99448  88587  122669  231680   \n",
       "member         323655  241139  143046   79219  51573  73993  167756  296182   \n",
       "\n",
       "                               ...   count                                \\\n",
       "hour               08      09  ...      14      15      16     17     18   \n",
       "member_casual                  ...                                         \n",
       "casual         461490  890090  ...  107370  108993  104603  96421  84263   \n",
       "member         471712  737187  ...   93948   94233   93108  88940  80555   \n",
       "\n",
       "                                                  \n",
       "hour              19     20     21     22     23  \n",
       "member_casual                                     \n",
       "casual         67813  51040  44342  43529  37039  \n",
       "member         65001  47448  37944  32347  25481  \n",
       "\n",
       "[2 rows x 72 columns]"
      ]
     },
     "execution_count": 44,
     "metadata": {},
     "output_type": "execute_result"
    }
   ],
   "source": [
    "trips_we = trips_2[(trips_2['day_of_the_week'] == 'Saturday') | (trips_2['day_of_the_week'] == 'Sunday')  ]\n",
    "trips_we.info()\n",
    "\n",
    "ride_len_by_mem_per_hour_we = pd.pivot_table(trips_we,\n",
    "              index = [ 'member_casual' ],\n",
    "              values = 'ride_length',\n",
    "              aggfunc = [np.sum, np.mean, 'count'],\n",
    "              columns = ['hour'],\n",
    "              margins = False,\n",
    "              margins_name = 'Total Count')\n",
    "ride_len_by_mem_per_hour_we"
   ]
  },
  {
   "cell_type": "code",
   "execution_count": 45,
   "metadata": {
    "scrolled": false
   },
   "outputs": [
    {
     "data": {
      "image/png": "[encoded data removed]",
      "text/plain": [
       "<Figure size 648x576 with 3 Axes>"
      ]
     },
     "metadata": {
      "needs_background": "light"
     },
     "output_type": "display_data"
    }
   ],
   "source": [
    "fig, (ax1, ax2, ax3) = plt.subplots(3,1)\n",
    "\n",
    "ride_len_by_mem_per_hour_we['count'].T.plot(kind='bar', ylabel='Total number of ride ', figsize= (9,8), ax = ax1)\n",
    "ride_len_by_mem_per_hour_we['sum'].T.plot(kind='bar', ylabel='Total ride length (min)', figsize= (9,8), ax = ax2)\n",
    "ride_len_by_mem_per_hour_we['mean'].T.plot(kind='bar', ylabel='Average ride length (min)', figsize= (9,8), ax = ax3)\n",
    "fig.tight_layout()"
   ]
  },
  {
   "cell_type": "markdown",
   "metadata": {},
   "source": [
    "#### During the weekends, the hourly distribution for both users are quite similar which is smoothly increasing until reach a peak at 14:00 for both users. The peak hours can be considered as between 12:00 up to 16:00.\n",
    "\n",
    "#### On the weekends, total number of rides and peak total ride length is not dominated by members anymore."
   ]
  },
  {
   "cell_type": "markdown",
   "metadata": {},
   "source": [
    "# 6 - Act\n",
    "\n",
    "Since the director of marketing believes the company’s future success depends on maximizing the number of annual memberships, we are interested in designing a new marketing strategy to convert casual riders into annual members. \n",
    "\n",
    "## Top three recommendations based on analysis"
   ]
  },
  {
   "cell_type": "markdown",
   "metadata": {},
   "source": [
    "The following reccomendations aim to persuade the casual riders to buy annual membership at the first stage. Implementing these recommendations has also another advantage which is maximizing the utility of the available resoursces and maximizing the profit even if the costumer choose to not buy annual membership.\n",
    "\n",
    "1- Promotions should target those casual users who seems to ride more often even during the weekdays and advertise the annual membership. More importantly promotions can target occasional riders on weekends to advertise about the annual or seasonal memberships. \n",
    "\n",
    "2- The price of the single-ride passes should be adjusted according to the higher average ride-length of the casual members. In other words, the single-ride pass can have higher price or even become unavailable at the times when there is a peak demand, such as between 12:00 to 16:00 on weekends and 16:00 to 18:00 on weekdays. This will help leveling off demand over the hours of the day and days of the week. Another perspective to this recommendation is offering discounted pricing during the non-peak times of the weekends and almost most of the week days.   \n",
    "\n",
    "3- Similarly, the full-day passes should not be available during the weekends of the high season (June, July, Agust, September) for the same price as other seasons and other days of the high season, especially if it is before peak hours of the day (12:00 up to 16:00). If we are interested in making the annual membership more appealing, these daily passes should not be available during the weekends of high season or at least their price should be higher to maximize the profit. At these peak times, we can instead offer monthly or seasonal membership for higher prices.\n"
   ]
  }
 ],
 "metadata": {
  "kernelspec": {
   "display_name": "Python 3 (ipykernel)",
   "language": "python",
   "name": "python3"
  },
  "language_info": {
   "codemirror_mode": {
    "name": "ipython",
    "version": 3
   },
   "file_extension": ".py",
   "mimetype": "text/x-python",
   "name": "python",
   "nbconvert_exporter": "python",
   "pygments_lexer": "ipython3",
   "version": "3.8.12"
  }
 },
 "nbformat": 4,
 "nbformat_minor": 4
}
